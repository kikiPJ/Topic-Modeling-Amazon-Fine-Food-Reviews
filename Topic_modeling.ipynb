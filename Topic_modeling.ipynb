{
 "cells": [
  {
   "cell_type": "code",
   "execution_count": 1,
   "metadata": {
    "id": "FAbK44rMkzaK"
   },
   "outputs": [],
   "source": [
    "import numpy as np\n",
    "import pandas as pd\n",
    "import os\n",
    "import seaborn as sns"
   ]
  },
  {
   "cell_type": "code",
   "execution_count": 2,
   "metadata": {
    "colab": {
     "base_uri": "https://localhost:8080/",
     "height": 522
    },
    "id": "jaMLjQzRp88w",
    "outputId": "9b613eaa-aba6-48b1-c754-9374bc1196a7"
   },
   "outputs": [
    {
     "data": {
      "text/html": [
       "<div>\n",
       "<style scoped>\n",
       "    .dataframe tbody tr th:only-of-type {\n",
       "        vertical-align: middle;\n",
       "    }\n",
       "\n",
       "    .dataframe tbody tr th {\n",
       "        vertical-align: top;\n",
       "    }\n",
       "\n",
       "    .dataframe thead th {\n",
       "        text-align: right;\n",
       "    }\n",
       "</style>\n",
       "<table border=\"1\" class=\"dataframe\">\n",
       "  <thead>\n",
       "    <tr style=\"text-align: right;\">\n",
       "      <th></th>\n",
       "      <th>Id</th>\n",
       "      <th>ProductId</th>\n",
       "      <th>UserId</th>\n",
       "      <th>ProfileName</th>\n",
       "      <th>HelpfulnessNumerator</th>\n",
       "      <th>HelpfulnessDenominator</th>\n",
       "      <th>Score</th>\n",
       "      <th>Time</th>\n",
       "      <th>Summary</th>\n",
       "      <th>Text</th>\n",
       "    </tr>\n",
       "  </thead>\n",
       "  <tbody>\n",
       "    <tr>\n",
       "      <th>0</th>\n",
       "      <td>1</td>\n",
       "      <td>B001E4KFG0</td>\n",
       "      <td>A3SGXH7AUHU8GW</td>\n",
       "      <td>delmartian</td>\n",
       "      <td>1</td>\n",
       "      <td>1</td>\n",
       "      <td>5</td>\n",
       "      <td>1303862400</td>\n",
       "      <td>Good Quality Dog Food</td>\n",
       "      <td>I have bought several of the Vitality canned d...</td>\n",
       "    </tr>\n",
       "    <tr>\n",
       "      <th>1</th>\n",
       "      <td>2</td>\n",
       "      <td>B00813GRG4</td>\n",
       "      <td>A1D87F6ZCVE5NK</td>\n",
       "      <td>dll pa</td>\n",
       "      <td>0</td>\n",
       "      <td>0</td>\n",
       "      <td>1</td>\n",
       "      <td>1346976000</td>\n",
       "      <td>Not as Advertised</td>\n",
       "      <td>Product arrived labeled as Jumbo Salted Peanut...</td>\n",
       "    </tr>\n",
       "    <tr>\n",
       "      <th>2</th>\n",
       "      <td>3</td>\n",
       "      <td>B000LQOCH0</td>\n",
       "      <td>ABXLMWJIXXAIN</td>\n",
       "      <td>Natalia Corres \"Natalia Corres\"</td>\n",
       "      <td>1</td>\n",
       "      <td>1</td>\n",
       "      <td>4</td>\n",
       "      <td>1219017600</td>\n",
       "      <td>\"Delight\" says it all</td>\n",
       "      <td>This is a confection that has been around a fe...</td>\n",
       "    </tr>\n",
       "    <tr>\n",
       "      <th>3</th>\n",
       "      <td>4</td>\n",
       "      <td>B000UA0QIQ</td>\n",
       "      <td>A395BORC6FGVXV</td>\n",
       "      <td>Karl</td>\n",
       "      <td>3</td>\n",
       "      <td>3</td>\n",
       "      <td>2</td>\n",
       "      <td>1307923200</td>\n",
       "      <td>Cough Medicine</td>\n",
       "      <td>If you are looking for the secret ingredient i...</td>\n",
       "    </tr>\n",
       "    <tr>\n",
       "      <th>4</th>\n",
       "      <td>5</td>\n",
       "      <td>B006K2ZZ7K</td>\n",
       "      <td>A1UQRSCLF8GW1T</td>\n",
       "      <td>Michael D. Bigham \"M. Wassir\"</td>\n",
       "      <td>0</td>\n",
       "      <td>0</td>\n",
       "      <td>5</td>\n",
       "      <td>1350777600</td>\n",
       "      <td>Great taffy</td>\n",
       "      <td>Great taffy at a great price.  There was a wid...</td>\n",
       "    </tr>\n",
       "  </tbody>\n",
       "</table>\n",
       "</div>"
      ],
      "text/plain": [
       "   Id   ProductId          UserId                      ProfileName  \\\n",
       "0   1  B001E4KFG0  A3SGXH7AUHU8GW                       delmartian   \n",
       "1   2  B00813GRG4  A1D87F6ZCVE5NK                           dll pa   \n",
       "2   3  B000LQOCH0   ABXLMWJIXXAIN  Natalia Corres \"Natalia Corres\"   \n",
       "3   4  B000UA0QIQ  A395BORC6FGVXV                             Karl   \n",
       "4   5  B006K2ZZ7K  A1UQRSCLF8GW1T    Michael D. Bigham \"M. Wassir\"   \n",
       "\n",
       "   HelpfulnessNumerator  HelpfulnessDenominator  Score        Time  \\\n",
       "0                     1                       1      5  1303862400   \n",
       "1                     0                       0      1  1346976000   \n",
       "2                     1                       1      4  1219017600   \n",
       "3                     3                       3      2  1307923200   \n",
       "4                     0                       0      5  1350777600   \n",
       "\n",
       "                 Summary                                               Text  \n",
       "0  Good Quality Dog Food  I have bought several of the Vitality canned d...  \n",
       "1      Not as Advertised  Product arrived labeled as Jumbo Salted Peanut...  \n",
       "2  \"Delight\" says it all  This is a confection that has been around a fe...  \n",
       "3         Cough Medicine  If you are looking for the secret ingredient i...  \n",
       "4            Great taffy  Great taffy at a great price.  There was a wid...  "
      ]
     },
     "execution_count": 2,
     "metadata": {},
     "output_type": "execute_result"
    }
   ],
   "source": [
    "df = pd.read_csv('Reviews.csv')\n",
    "df.head()"
   ]
  },
  {
   "cell_type": "code",
   "execution_count": 3,
   "metadata": {
    "colab": {
     "base_uri": "https://localhost:8080/"
    },
    "id": "0oBVulx6lxYz",
    "outputId": "006fbfe4-b51d-46de-b599-d30b5dee6c4c"
   },
   "outputs": [
    {
     "data": {
      "text/plain": [
       "(3000, 10)"
      ]
     },
     "execution_count": 3,
     "metadata": {},
     "output_type": "execute_result"
    }
   ],
   "source": [
    "df = df.sample(n=3000)\n",
    "df.shape"
   ]
  },
  {
   "cell_type": "code",
   "execution_count": 4,
   "metadata": {
    "id": "6Mp30eW1yZbg"
   },
   "outputs": [],
   "source": [
    "data_text = df['Summary']"
   ]
  },
  {
   "cell_type": "code",
   "execution_count": 33,
   "metadata": {
    "colab": {
     "base_uri": "https://localhost:8080/",
     "height": 35
    },
    "id": "ig9_aqyeyZpn",
    "outputId": "9bbaa967-af24-4e0d-c088-4f92d2f9b808"
   },
   "outputs": [
    {
     "data": {
      "text/plain": [
       "\"It smells great!! It's very mild though so if you have a lot of acne or scarring you may want something else.\""
      ]
     },
     "execution_count": 33,
     "metadata": {},
     "output_type": "execute_result"
    }
   ],
   "source": [
    "data_text.iloc[4]"
   ]
  },
  {
   "cell_type": "markdown",
   "metadata": {
    "id": "8WJjtEpKx8dZ"
   },
   "source": [
    "PREPROCESSING"
   ]
  },
  {
   "cell_type": "code",
   "execution_count": 6,
   "metadata": {
    "colab": {
     "base_uri": "https://localhost:8080/"
    },
    "id": "Fte0TwTfrFcd",
    "outputId": "ac18da85-7b94-4595-8cd9-b5ad8203d7ca"
   },
   "outputs": [
    {
     "name": "stderr",
     "output_type": "stream",
     "text": [
      "[nltk_data] Downloading package stopwords to\n",
      "[nltk_data]     C:\\Users\\ASUS\\AppData\\Roaming\\nltk_data...\n",
      "[nltk_data]   Unzipping corpora\\stopwords.zip.\n"
     ]
    }
   ],
   "source": [
    "import re\n",
    "import nltk\n",
    "nltk.download('stopwords')\n",
    "from nltk.corpus import stopwords"
   ]
  },
  {
   "cell_type": "code",
   "execution_count": 7,
   "metadata": {},
   "outputs": [
    {
     "name": "stderr",
     "output_type": "stream",
     "text": [
      "C:\\Users\\ASUS\\Anaconda3\\lib\\site-packages\\gensim\\similarities\\__init__.py:15: UserWarning: The gensim.similarities.levenshtein submodule is disabled, because the optional Levenshtein package <https://pypi.org/project/python-Levenshtein/> is unavailable. Install Levenhstein (e.g. `pip install python-Levenshtein`) to suppress this warning.\n",
      "  warnings.warn(msg)\n"
     ]
    }
   ],
   "source": [
    "# Gensim\n",
    "import gensim\n",
    "import gensim.corpora as corpora\n",
    "from gensim.utils import simple_preprocess\n",
    "from gensim.models import CoherenceModel\n",
    "\n",
    "# Enable logging for gensim - optional\n",
    "import logging\n",
    "logging.basicConfig(format='%(asctime)s : %(levelname)s : %(message)s', level=logging.ERROR)\n",
    "\n",
    "import warnings\n",
    "warnings.filterwarnings(\"ignore\",category=DeprecationWarning)"
   ]
  },
  {
   "cell_type": "code",
   "execution_count": 27,
   "metadata": {
    "id": "irAC5-7FyFxT"
   },
   "outputs": [],
   "source": [
    "#def preProcessString(text):\n",
    "    # remove all html tags\n",
    "#    text = re.sub('<.*?>', ' ', str(text))\n",
    "    \n",
    "    # remove all special characters\n",
    "#    text = re.sub('[^A-Za-z0-9]+', ' ', text)\n",
    "    \n",
    "    # converting all text into small letters and store them as words for furthur processing\n",
    "#    text_list = text.lower().#split()\n",
    "    \n",
    "    # removing stopwords from the text\n",
    "#    english_stop_words = set(stopwords.words('english'))\n",
    "    # we have used set instead of list because, set uses hashing to store the words. So lookup is O(1).\n",
    "    # where as for list the look up time is O(n) (ie., make things faster in list comprehension below)\n",
    "#    text_list = [word for word in text_list if word not in english_stop_words]\n",
    "    \n",
    "    # stemming the words (removing prefix and postfix) using Porter stemming algorithm..\n",
    "#    text_list = [ps.stem(word) for word in text_list]\n",
    "    \n",
    "#    return ' '.join(text_list)"
   ]
  },
  {
   "cell_type": "code",
   "execution_count": 28,
   "metadata": {
    "id": "mrMH3RlcyF_c"
   },
   "outputs": [],
   "source": [
    "#result = data_text.apply(preProcessString)"
   ]
  },
  {
   "cell_type": "code",
   "execution_count": 1,
   "metadata": {
    "colab": {
     "base_uri": "https://localhost:8080/"
    },
    "id": "aHZDFp1ayGMP",
    "outputId": "5e890a58-a799-41a5-e3b6-d75d9c3d98d7"
   },
   "outputs": [],
   "source": [
    "#result.sample(n=20)"
   ]
  },
  {
   "cell_type": "code",
   "execution_count": 8,
   "metadata": {
    "id": "LTR-siQ60edP"
   },
   "outputs": [],
   "source": [
    "# Convert to list\n",
    "data = data_text.tolist()"
   ]
  },
  {
   "cell_type": "code",
   "execution_count": 22,
   "metadata": {
    "colab": {
     "base_uri": "https://localhost:8080/"
    },
    "id": "VzK-cRYV0erC",
    "outputId": "dc11c1e8-bea7-47ef-9235-c8516afcd901"
   },
   "outputs": [
    {
     "name": "stdout",
     "output_type": "stream",
     "text": [
      "['it', 'smells', 'great', 'it', 'very', 'mild', 'though', 'so', 'if', 'you', 'have', 'lot', 'of', 'acne', 'or', 'scarring', 'you', 'may', 'want', 'something', 'else']\n"
     ]
    }
   ],
   "source": [
    "def sent_to_words(sentences):\n",
    "    for sentence in sentences:\n",
    "        yield(gensim.utils.simple_preprocess(str(sentence), deacc=True))  # deacc=True removes punctuations\n",
    "\n",
    "data_words = list(sent_to_words(data))\n",
    "\n",
    "print(data_words[4])"
   ]
  },
  {
   "cell_type": "code",
   "execution_count": 23,
   "metadata": {
    "colab": {
     "base_uri": "https://localhost:8080/"
    },
    "id": "8eGXAxEJ2CRj",
    "outputId": "a3393707-e526-402d-cd7f-e7c7bba1aa4e"
   },
   "outputs": [
    {
     "name": "stdout",
     "output_type": "stream",
     "text": [
      "3000\n"
     ]
    }
   ],
   "source": [
    "print(len(data_words))"
   ]
  },
  {
   "cell_type": "markdown",
   "metadata": {},
   "source": [
    "CREATE BIGRAM AND TRIGRAM MODELS"
   ]
  },
  {
   "cell_type": "code",
   "execution_count": 24,
   "metadata": {
    "colab": {
     "base_uri": "https://localhost:8080/"
    },
    "id": "DmteEr3w2mT6",
    "outputId": "d22b6b6f-00f2-443b-b0bf-64a67b147173"
   },
   "outputs": [
    {
     "name": "stdout",
     "output_type": "stream",
     "text": [
      "['it', 'smells', 'great', 'it', 'very', 'mild', 'though', 'so', 'if', 'you', 'have', 'lot', 'of', 'acne', 'or', 'scarring', 'you', 'may', 'want', 'something', 'else']\n"
     ]
    }
   ],
   "source": [
    "# Build the bigram and trigram models\n",
    "bigram = gensim.models.Phrases(data_words, min_count=5, threshold=100) # higher threshold fewer phrases.\n",
    "trigram = gensim.models.Phrases(bigram[data_words], threshold=100)  \n",
    "\n",
    "# Faster way to get a sentence clubbed as a trigram/bigram\n",
    "bigram_mod = gensim.models.phrases.Phraser(bigram)\n",
    "trigram_mod = gensim.models.phrases.Phraser(trigram)\n",
    "\n",
    "# See trigram example\n",
    "print(trigram_mod[bigram_mod[data_words[4]]])"
   ]
  },
  {
   "cell_type": "code",
   "execution_count": 12,
   "metadata": {
    "id": "ExrfukWHEPXG"
   },
   "outputs": [],
   "source": [
    "from nltk.corpus import stopwords\n",
    "stop_words = stopwords.words('english')"
   ]
  },
  {
   "cell_type": "code",
   "execution_count": 13,
   "metadata": {
    "id": "W3Ka10hfC8b_"
   },
   "outputs": [],
   "source": [
    "# Define functions for stopwords, bigrams, trigrams\n",
    "def remove_stopwords(texts):\n",
    "    return [[word for word in simple_preprocess(str(doc)) if word not in stop_words] for doc in texts]\n",
    "\n",
    "def make_bigrams(texts):\n",
    "    return [bigram_mod[doc] for doc in texts]\n",
    "\n",
    "def make_trigrams(texts):\n",
    "    return [trigram_mod[bigram_mod[doc]] for doc in texts]"
   ]
  },
  {
   "cell_type": "code",
   "execution_count": 14,
   "metadata": {
    "id": "LKoIesKpC8pK"
   },
   "outputs": [],
   "source": [
    "# Remove Stop Words\n",
    "data_words_nostops = remove_stopwords(data_words)\n",
    "\n",
    "# Form Bigrams\n",
    "data_words_bigrams = make_bigrams(data_words_nostops)"
   ]
  },
  {
   "cell_type": "code",
   "execution_count": 25,
   "metadata": {
    "colab": {
     "base_uri": "https://localhost:8080/"
    },
    "id": "Bxu92MtoC80Z",
    "outputId": "2f2f2bbb-6f1f-495d-8546-aee0cd8f3390"
   },
   "outputs": [
    {
     "name": "stdout",
     "output_type": "stream",
     "text": [
      "['smells', 'great', 'mild', 'though', 'lot', 'acne', 'scarring', 'may', 'want', 'something', 'else']\n"
     ]
    }
   ],
   "source": [
    "print(data_words_bigrams[4])"
   ]
  },
  {
   "cell_type": "markdown",
   "metadata": {},
   "source": [
    "CREATE THE DICTIONARY AND CORPUS"
   ]
  },
  {
   "cell_type": "code",
   "execution_count": 26,
   "metadata": {
    "colab": {
     "base_uri": "https://localhost:8080/"
    },
    "id": "3sPMeVa0C9BF",
    "outputId": "e713a31c-9177-431c-b94a-d39cae4bae63"
   },
   "outputs": [
    {
     "name": "stdout",
     "output_type": "stream",
     "text": [
      "Dictionary(305 unique tokens: ['excellent', 'meal', 'well', 'flavor', 'noodles']...)\n"
     ]
    }
   ],
   "source": [
    "# Create Dictionary\n",
    "id2word = corpora.Dictionary(data_words_bigrams)\n",
    "#id2word[0]\n",
    "id2word.filter_extremes(no_below=5, no_above=0.2)\n",
    "print(id2word)"
   ]
  },
  {
   "cell_type": "code",
   "execution_count": 31,
   "metadata": {
    "colab": {
     "base_uri": "https://localhost:8080/"
    },
    "id": "hesXXPUiFRnE",
    "outputId": "2d507b7c-9430-4b01-91aa-cdd5ba7d0d11"
   },
   "outputs": [
    {
     "name": "stdout",
     "output_type": "stream",
     "text": [
      "3000\n",
      "[[], [(0, 1)], [(1, 1), (2, 1)], [(3, 1), (4, 1), (5, 1), (6, 1)], [(7, 1), (8, 1), (9, 1), (10, 1), (11, 1)]]\n"
     ]
    }
   ],
   "source": [
    "# Create Corpus\n",
    "texts = data_words_bigrams\n",
    "\n",
    "# Term Document Frequency\n",
    "corpus = [id2word.doc2bow(text) for text in texts]\n",
    "\n",
    "print(len(corpus))\n",
    "print(corpus[:5])"
   ]
  },
  {
   "cell_type": "code",
   "execution_count": 30,
   "metadata": {
    "colab": {
     "base_uri": "https://localhost:8080/"
    },
    "id": "48N7xQ1EFRxv",
    "outputId": "380c7e5d-1065-493c-ed81-c6136e0767d1"
   },
   "outputs": [
    {
     "data": {
      "text/plain": [
       "[[],\n",
       " [('excellent', 1)],\n",
       " [('meal', 1), ('well', 1)],\n",
       " [('flavor', 1), ('noodles', 1), ('tasting', 1), ('weird', 1)],\n",
       " [('else', 1), ('great', 1), ('mild', 1), ('smells', 1), ('want', 1)]]"
      ]
     },
     "execution_count": 30,
     "metadata": {},
     "output_type": "execute_result"
    }
   ],
   "source": [
    "# Human readable format of corpus (term-frequency)\n",
    "[[(id2word[id], freq) for id, freq in cp] for cp in corpus[:5]]"
   ]
  },
  {
   "cell_type": "markdown",
   "metadata": {
    "id": "TtE3KDlEJrNB"
   },
   "source": [
    "COHERENCE SCORE"
   ]
  },
  {
   "cell_type": "code",
   "execution_count": 34,
   "metadata": {
    "id": "sL5X8gyqIiyg"
   },
   "outputs": [],
   "source": [
    "from gensim.models.coherencemodel import CoherenceModel\n",
    "from gensim.models.ldamodel import LdaModel\n",
    "from gensim.corpora.dictionary import Dictionary\n",
    "from numpy import array\n",
    "#function to compute coherence values\n",
    "def compute_coherence_values(dictionary, corpus, texts, limit, start, step):\n",
    "    coherence_values = []\n",
    "    model_list = []  \n",
    "    for num_topics in range(start, limit, step):\n",
    "        model = LdaModel(corpus=corpus, id2word=dictionary, num_topics=num_topics, iterations=100) #membangun model LDAnya, iterasinya bebas kita mau set berapa\n",
    "        model_list.append(model)\n",
    "        coherencemodel = CoherenceModel(model=model, texts=texts, dictionary=dictionary, coherence='c_v')\n",
    "        coherence_values.append(coherencemodel.get_coherence())\n",
    "        \n",
    "    return model_list, coherence_values"
   ]
  },
  {
   "cell_type": "code",
   "execution_count": 35,
   "metadata": {
    "colab": {
     "base_uri": "https://localhost:8080/",
     "height": 1000
    },
    "id": "ffWfqvrbJyjw",
    "outputId": "ab286a1c-c0e5-482c-bc2f-a1e57127276b"
   },
   "outputs": [
    {
     "data": {
      "image/png": "[encoded data removed]",
      "text/plain": [
       "<Figure size 432x288 with 1 Axes>"
      ]
     },
     "metadata": {
      "needs_background": "light"
     },
     "output_type": "display_data"
    }
   ],
   "source": [
    "start=2\n",
    "limit=20\n",
    "step=2\n",
    "model_list, coherence_values = compute_coherence_values(id2word, corpus=corpus, \n",
    "                                                        texts=texts, start=start, limit=limit, step=step)\n",
    "#show graphs\n",
    "import matplotlib.pyplot as plt\n",
    "x = range(start, limit, step)\n",
    "plt.plot(x, coherence_values)\n",
    "plt.xlabel(\"Num Topics\")\n",
    "plt.ylabel(\"Coherence score\")\n",
    "plt.legend((\"coherence_values\"), loc='best')\n",
    "plt.show()"
   ]
  },
  {
   "cell_type": "code",
   "execution_count": 36,
   "metadata": {
    "colab": {
     "base_uri": "https://localhost:8080/"
    },
    "id": "s0gHIW_nJy2B",
    "outputId": "622f13a0-7c81-4a15-8d8b-5339ef9acd17"
   },
   "outputs": [
    {
     "name": "stdout",
     "output_type": "stream",
     "text": [
      "Num Topics = 2  has Coherence Value of 0.5755\n",
      "Num Topics = 4  has Coherence Value of 0.5928\n",
      "Num Topics = 6  has Coherence Value of 0.6204\n",
      "Num Topics = 8  has Coherence Value of 0.6298\n",
      "Num Topics = 10  has Coherence Value of 0.6267\n",
      "Num Topics = 12  has Coherence Value of 0.6206\n",
      "Num Topics = 14  has Coherence Value of 0.6426\n",
      "Num Topics = 16  has Coherence Value of 0.6311\n",
      "Num Topics = 18  has Coherence Value of 0.6334\n"
     ]
    }
   ],
   "source": [
    "# Print the coherence scores\n",
    "for m, cv in zip(x, coherence_values):\n",
    "    print(\"Num Topics =\", m, \" has Coherence Value of\", round(cv, 4))"
   ]
  },
  {
   "cell_type": "markdown",
   "metadata": {
    "id": "UzzXYPgPHELs"
   },
   "source": [
    "BUILDING TOPIC MODELING"
   ]
  },
  {
   "cell_type": "code",
   "execution_count": 37,
   "metadata": {
    "colab": {
     "base_uri": "https://localhost:8080/"
    },
    "id": "If5Q0N71HHxY",
    "outputId": "2aeb69d5-45b3-4de4-e0e2-502dac8ed27e"
   },
   "outputs": [],
   "source": [
    "# Build LDA model\n",
    "lda_model = gensim.models.ldamodel.LdaModel(corpus=corpus,\n",
    "                                           id2word=id2word,\n",
    "                                           num_topics=14, \n",
    "                                           random_state=100,\n",
    "                                           update_every=1,\n",
    "                                           chunksize=100,\n",
    "                                           passes=10,\n",
    "                                           alpha='auto',\n",
    "                                           per_word_topics=True)"
   ]
  },
  {
   "cell_type": "code",
   "execution_count": 38,
   "metadata": {
    "id": "e172XZz-HIDP"
   },
   "outputs": [],
   "source": [
    "from pprint import pprint"
   ]
  },
  {
   "cell_type": "code",
   "execution_count": 39,
   "metadata": {
    "colab": {
     "base_uri": "https://localhost:8080/"
    },
    "id": "OCNHPA5sIiY-",
    "outputId": "65c7da07-c7e5-4f24-9b50-d41f93940d8f"
   },
   "outputs": [
    {
     "name": "stdout",
     "output_type": "stream",
     "text": [
      "[(0,\n",
      "  '0.179*\"food\" + 0.141*\"healthy\" + 0.090*\"little\" + 0.064*\"pretty\" + '\n",
      "  '0.061*\"bad\" + 0.053*\"cat\" + 0.048*\"way\" + 0.045*\"much\" + '\n",
      "  '0.041*\"disappointed\" + 0.033*\"weak\"'),\n",
      " (1,\n",
      "  '0.230*\"like\" + 0.227*\"tasty\" + 0.180*\"excellent\" + 0.069*\"go\" + '\n",
      "  '0.064*\"amazing\" + 0.057*\"breakfast\" + 0.034*\"without\" + 0.029*\"less\" + '\n",
      "  '0.019*\"awful\" + 0.015*\"big\"'),\n",
      " (2,\n",
      "  '0.227*\"delicious\" + 0.219*\"tea\" + 0.193*\"flavor\" + 0.044*\"expensive\" + '\n",
      "  '0.041*\"wonderful\" + 0.041*\"dark\" + 0.037*\"decaf\" + 0.024*\"free\" + '\n",
      "  '0.022*\"bags\" + 0.021*\"mild\"'),\n",
      " (3,\n",
      "  '0.308*\"product\" + 0.236*\"dog\" + 0.080*\"cookies\" + 0.038*\"packaging\" + '\n",
      "  '0.034*\"get\" + 0.030*\"customer\" + 0.027*\"pack\" + 0.027*\"service\" + '\n",
      "  '0.025*\"spicy\" + 0.024*\"fine\"'),\n",
      " (4,\n",
      "  '0.379*\"love\" + 0.085*\"favorite\" + 0.077*\"chocolate\" + 0.072*\"bars\" + '\n",
      "  '0.053*\"vanilla\" + 0.047*\"kind\" + 0.032*\"old\" + 0.030*\"candy\" + '\n",
      "  '0.027*\"protein\" + 0.026*\"year\"'),\n",
      " (5,\n",
      "  '0.224*\"awesome\" + 0.097*\"tastes\" + 0.088*\"treat\" + 0.064*\"sugar\" + '\n",
      "  '0.060*\"snacks\" + 0.058*\"sauce\" + 0.050*\"fruit\" + 0.048*\"drink\" + '\n",
      "  '0.047*\"fabulous\" + 0.039*\"products\"'),\n",
      " (6,\n",
      "  '0.111*\"yum\" + 0.095*\"cup\" + 0.087*\"tasting\" + 0.077*\"gluten_free\" + '\n",
      "  '0.069*\"review\" + 0.067*\"eat\" + 0.047*\"pasta\" + 0.047*\"made\" + 0.047*\"baby\" '\n",
      "  '+ 0.046*\"box\"'),\n",
      " (7,\n",
      "  '0.308*\"coffee\" + 0.067*\"snack\" + 0.063*\"better\" + 0.057*\"one\" + '\n",
      "  '0.049*\"smooth\" + 0.043*\"easy\" + 0.041*\"organic\" + 0.032*\"fantastic\" + '\n",
      "  '0.030*\"package\" + 0.028*\"morning\"'),\n",
      " (8,\n",
      "  '0.489*\"new\" + 0.002*\"beans\" + 0.002*\"cookie\" + 0.002*\"simple\" + '\n",
      "  '0.002*\"packaging\" + 0.002*\"favorite\" + 0.002*\"delicious\" + 0.002*\"milk\" + '\n",
      "  '0.002*\"good\" + 0.002*\"product\"'),\n",
      " (9,\n",
      "  '0.293*\"best\" + 0.073*\"ever\" + 0.063*\"cats\" + 0.058*\"really\" + 0.058*\"nice\" '\n",
      "  '+ 0.050*\"hot\" + 0.042*\"always\" + 0.035*\"rice\" + 0.026*\"milk\" + '\n",
      "  '0.024*\"cereal\"'),\n",
      " (10,\n",
      "  '0.168*\"price\" + 0.163*\"stuff\" + 0.113*\"loves\" + 0.104*\"quality\" + '\n",
      "  '0.089*\"value\" + 0.047*\"happy\" + 0.044*\"popcorn\" + 0.039*\"truly\" + '\n",
      "  '0.038*\"rich\" + 0.026*\"cheese\"'),\n",
      " (11,\n",
      "  '0.540*\"great\" + 0.055*\"buy\" + 0.033*\"amazon\" + 0.028*\"green\" + '\n",
      "  '0.023*\"syrup\" + 0.021*\"coconut\" + 0.020*\"works\" + 0.019*\"bread\" + '\n",
      "  '0.018*\"makes\" + 0.018*\"soup\"'),\n",
      " (12,\n",
      "  '0.439*\"good\" + 0.151*\"taste\" + 0.053*\"perfect\" + 0.033*\"strong\" + '\n",
      "  '0.032*\"salt\" + 0.030*\"chips\" + 0.026*\"deal\" + 0.023*\"real\" + 0.020*\"enough\" '\n",
      "  '+ 0.020*\"work\"'),\n",
      " (13,\n",
      "  '0.250*\"yummy\" + 0.184*\"dogs\" + 0.121*\"sweet\" + 0.079*\"ok\" + 0.070*\"treats\" '\n",
      "  '+ 0.061*\"super\" + 0.038*\"loved\" + 0.031*\"still\" + 0.025*\"liked\" + '\n",
      "  '0.022*\"salty\"')]\n"
     ]
    }
   ],
   "source": [
    "# Print the Keyword in the 10 topics\n",
    "pprint(lda_model.print_topics())\n",
    "doc_lda = lda_model[corpus]"
   ]
  },
  {
   "cell_type": "code",
   "execution_count": 40,
   "metadata": {
    "colab": {
     "base_uri": "https://localhost:8080/"
    },
    "id": "5UWh4_tgIipH",
    "outputId": "313036f5-9332-4ff8-d2ed-abbac2465ed2"
   },
   "outputs": [
    {
     "name": "stdout",
     "output_type": "stream",
     "text": [
      "\n",
      "Coherence Score:  0.6528553652596086\n"
     ]
    }
   ],
   "source": [
    "# Compute Coherence Score\n",
    "coherence_model_lda = CoherenceModel(model=lda_model, texts=texts, dictionary=id2word, coherence='c_v')\n",
    "coherence_lda = coherence_model_lda.get_coherence()\n",
    "print('\\nCoherence Score: ', coherence_lda)"
   ]
  },
  {
   "cell_type": "markdown",
   "metadata": {},
   "source": [
    "VISUALISASI"
   ]
  },
  {
   "cell_type": "code",
   "execution_count": 41,
   "metadata": {
    "colab": {
     "base_uri": "https://localhost:8080/",
     "height": 861
    },
    "id": "CjcOrPNTLGWj",
    "outputId": "1a02fd18-621d-4474-9a3e-63a1602bf06c"
   },
   "outputs": [
    {
     "name": "stderr",
     "output_type": "stream",
     "text": [
      "C:\\Users\\ASUS\\Anaconda3\\lib\\site-packages\\sklearn\\decomposition\\_lda.py:29: DeprecationWarning: `np.float` is a deprecated alias for the builtin `float`. To silence this warning, use `float` by itself. Doing this will not modify any behavior and is safe. If you specifically wanted the numpy scalar type, use `np.float64` here.\n",
      "Deprecated in NumPy 1.20; for more details and guidance: https://numpy.org/devdocs/release/1.20.0-notes.html#deprecations\n",
      "  EPS = np.finfo(np.float).eps\n"
     ]
    },
    {
     "data": {
      "text/html": [
       "\n",
       "<link rel=\"stylesheet\" type=\"text/css\" href=\"https://cdn.jsdelivr.net/gh/bmabey/pyLDAvis@3.3.1/pyLDAvis/js/ldavis.v1.0.0.css\">\n",
       "\n",
       "\n",
       "<div id=\"ldavis_el1402424775114922561074609402\"></div>\n",
       "<script type=\"text/javascript\">\n",
       "\n",
       "var ldavis_el1402424775114922561074609402_data = {\"mdsDat\": {\"x\": [0.17837941902990978, 0.38963360335295605, -0.08526467843489408, -0.07648120530925717, 0.003049910612460897, -0.02494093258080599, -0.026648976285422656, -0.06126237097789825, -0.05131935020266148, -0.02705097479540936, -0.06852642090066857, -0.04112891845691052, -0.061805513135608975, -0.04663359191579034], \"y\": [0.40703474144636603, -0.21469514884892632, -0.03738397941374336, -0.032431799189090865, -0.008324651904688115, -0.015603688178008886, -0.013570215966366098, -0.017849443137241003, -0.014224937458706139, -0.007631840719171789, -0.016999016414905085, -0.011005280677302618, -0.01301919534497707, -0.004295544193239219], \"topics\": [1, 2, 3, 4, 5, 6, 7, 8, 9, 10, 11, 12, 13, 14], \"cluster\": [1, 1, 1, 1, 1, 1, 1, 1, 1, 1, 1, 1, 1, 1], \"Freq\": [14.170057684863282, 11.966894085709896, 10.751930876708569, 9.511653451355878, 8.146378227504544, 7.16200958511191, 6.9049068471291095, 6.87844905970672, 5.826953677719865, 5.337501983489876, 4.83507681530297, 4.48147291494373, 3.518155350880967, 0.5085594395726823]}, \"tinfo\": {\"Term\": [\"great\", \"good\", \"love\", \"best\", \"coffee\", \"product\", \"delicious\", \"tea\", \"dog\", \"flavor\", \"taste\", \"like\", \"tasty\", \"yummy\", \"food\", \"excellent\", \"price\", \"stuff\", \"awesome\", \"dogs\", \"healthy\", \"loves\", \"quality\", \"sweet\", \"ever\", \"yum\", \"little\", \"favorite\", \"value\", \"new\", \"great\", \"buy\", \"amazon\", \"green\", \"syrup\", \"coconut\", \"works\", \"bread\", \"makes\", \"soup\", \"flavored\", \"gift\", \"water\", \"natural\", \"choice\", \"mountain\", \"beans\", \"wow\", \"calories\", \"expected\", \"red\", \"us\", \"crackers\", \"money\", \"gum\", \"item\", \"espresso\", \"diamond\", \"blue\", \"fresh\", \"good\", \"taste\", \"perfect\", \"strong\", \"salt\", \"chips\", \"deal\", \"real\", \"enough\", \"work\", \"starter\", \"well\", \"kit\", \"cookie\", \"thing\", \"pricey\", \"texture\", \"idea\", \"use\", \"meat\", \"potato\", \"find\", \"smell\", \"hard\", \"decent\", \"think\", \"ingredients\", \"day\", \"convenient\", \"disappointing\", \"chip\", \"best\", \"ever\", \"cats\", \"really\", \"nice\", \"hot\", \"always\", \"rice\", \"milk\", \"cereal\", \"oil\", \"honey\", \"used\", \"chicken\", \"jerky\", \"oatmeal\", \"tasted\", \"juice\", \"beef\", \"different\", \"tried\", \"worst\", \"bar\", \"yet\", \"pretzels\", \"try\", \"peanut_butter\", \"energy\", \"canned\", \"cocoa\", \"coffee\", \"snack\", \"better\", \"one\", \"smooth\", \"easy\", \"organic\", \"fantastic\", \"package\", \"morning\", \"cups\", \"even\", \"classic\", \"quick\", \"full\", \"roast\", \"hazelnut\", \"mix\", \"wrong\", \"flavorful\", \"got\", \"bold\", \"star\", \"could\", \"carb\", \"medium\", \"brew\", \"double\", \"close\", \"toy\", \"ingredients\", \"delicious\", \"tea\", \"flavor\", \"expensive\", \"wonderful\", \"dark\", \"decaf\", \"free\", \"bags\", \"mild\", \"white\", \"lovers\", \"beautiful\", \"stash\", \"black\", \"worth\", \"convenient\", \"stale\", \"absolutely\", \"versatile\", \"disappointing\", \"nasty\", \"cheaper\", \"kick\", \"right\", \"nuts\", \"bonsai\", \"terrible\", \"fun\", \"stars\", \"meal\", \"fresh\", \"delightful\", \"hard\", \"love\", \"favorite\", \"chocolate\", \"bars\", \"vanilla\", \"kind\", \"old\", \"candy\", \"protein\", \"year\", \"gf\", \"house\", \"chai\", \"kids\", \"ginger\", \"flavors\", \"cappuccino\", \"nestle\", \"raw\", \"staple\", \"stale\", \"must\", \"chip\", \"please\", \"date\", \"close\", \"make\", \"nuts\", \"bonsai\", \"stars\", \"kid\", \"think\", \"dry\", \"formula\", \"hard\", \"product\", \"dog\", \"cookies\", \"packaging\", \"get\", \"customer\", \"pack\", \"service\", \"spicy\", \"fine\", \"shipping\", \"wellness\", \"chews\", \"fast\", \"ounce\", \"another\", \"mill\", \"oh\", \"beware\", \"winner\", \"chip\", \"soft\", \"surprise\", \"formula\", \"nuts\", \"make\", \"cheaper\", \"bag\", \"bonsai\", \"stars\", \"original\", \"disappointing\", \"fresh\", \"hard\", \"food\", \"healthy\", \"little\", \"pretty\", \"bad\", \"cat\", \"way\", \"much\", \"disappointed\", \"weak\", \"high\", \"time\", \"low\", \"first\", \"bit\", \"substitute\", \"fat\", \"long\", \"alternative\", \"order\", \"addicting\", \"kinda\", \"hard\", \"right\", \"fresh\", \"stars\", \"goodness\", \"dry\", \"ingredients\", \"bonsai\", \"formula\", \"soft\", \"kid\", \"meal\", \"nasty\", \"price\", \"stuff\", \"loves\", \"quality\", \"value\", \"happy\", \"popcorn\", \"truly\", \"rich\", \"cheese\", \"outstanding\", \"bitter\", \"want\", \"poor\", \"else\", \"recommended\", \"smells\", \"please\", \"store\", \"nuts\", \"bonsai\", \"stars\", \"right\", \"nasty\", \"goodness\", \"bag\", \"terrible\", \"fun\", \"dry\", \"absolutely\", \"cheaper\", \"brand\", \"disappointing\", \"hard\", \"soft\", \"stale\", \"kid\", \"like\", \"tasty\", \"excellent\", \"go\", \"amazing\", \"breakfast\", \"without\", \"less\", \"awful\", \"big\", \"delightful\", \"addicting\", \"chip\", \"beware\", \"brand\", \"date\", \"mess\", \"fun\", \"hard\", \"versatile\", \"make\", \"kinda\", \"bonsai\", \"store\", \"stars\", \"nuts\", \"fresh\", \"goodness\", \"terrible\", \"right\", \"please\", \"winner\", \"staple\", \"ingredients\", \"yum\", \"cup\", \"tasting\", \"gluten_free\", \"review\", \"eat\", \"pasta\", \"made\", \"baby\", \"box\", \"every\", \"give\", \"pleasant\", \"simple\", \"would\", \"noodles\", \"wish\", \"weird\", \"son\", \"heaven\", \"kid\", \"ingredients\", \"meal\", \"please\", \"nasty\", \"original\", \"surprise\", \"goodness\", \"fresh\", \"stars\", \"date\", \"smell\", \"yummy\", \"dogs\", \"sweet\", \"ok\", \"treats\", \"super\", \"loved\", \"still\", \"liked\", \"salty\", \"light\", \"sick\", \"cheap\", \"toy\", \"nasty\", \"dry\", \"surprise\", \"think\", \"disappointing\", \"meal\", \"kick\", \"bag\", \"goodness\", \"bonsai\", \"stars\", \"nuts\", \"terrible\", \"fun\", \"right\", \"absolutely\", \"addicting\", \"kinda\", \"ingredients\", \"soft\", \"stale\", \"kid\", \"awesome\", \"tastes\", \"treat\", \"sugar\", \"snacks\", \"sauce\", \"fruit\", \"drink\", \"fabulous\", \"products\", \"granola\", \"horrible\", \"small\", \"regular\", \"whole\", \"please\", \"date\", \"kinda\", \"decent\", \"beware\", \"fresh\", \"bonsai\", \"day\", \"stars\", \"soft\", \"nuts\", \"goodness\", \"delightful\", \"kid\", \"terrible\", \"chip\", \"store\", \"smell\", \"year\", \"protein\", \"new\", \"bonsai\", \"stars\", \"nuts\", \"goodness\", \"terrible\", \"fun\", \"right\", \"dry\", \"bag\", \"absolutely\", \"cheaper\", \"mess\", \"store\", \"must\", \"day\", \"winner\", \"formula\", \"know\", \"surprise\", \"convenient\", \"delightful\", \"kick\", \"kinda\", \"decent\", \"versatile\", \"staple\", \"disappointing\", \"make\", \"toy\", \"beans\", \"cookie\", \"simple\", \"packaging\", \"favorite\", \"delicious\", \"milk\", \"good\", \"product\", \"excellent\", \"meal\", \"well\", \"flavor\", \"noodles\", \"tasting\", \"weird\", \"else\", \"great\", \"mild\", \"smells\", \"want\", \"awful\", \"yummy\", \"black\", \"fine\", \"tea\", \"best\", \"ever\", \"pretzels\"], \"Freq\": [404.0, 278.0, 143.0, 167.0, 155.0, 113.0, 98.0, 95.0, 87.0, 83.0, 96.0, 65.0, 64.0, 60.0, 65.0, 51.0, 52.0, 50.0, 42.0, 44.0, 52.0, 35.0, 33.0, 29.0, 42.0, 29.0, 33.0, 33.0, 28.0, 14.0, 403.48616335429097, 41.106259555079625, 24.493679223991066, 20.625552604585415, 16.964634270159976, 15.490566918376102, 15.151023111089055, 14.527540260623994, 13.805207591298968, 13.523698984545328, 13.396405399118857, 12.982213069997584, 12.28891889294291, 11.663204776488252, 11.075987658755476, 10.479443654194151, 8.837433145486067, 8.606228305115863, 8.29308572283868, 8.007914747845561, 6.566175682506461, 5.935845129645737, 5.5722685541623775, 5.267399901729887, 4.9879648263383025, 4.578366300619145, 4.549207331127756, 2.8182249169844695, 1.1501707847289604, 0.1165909819202121, 277.46339088609534, 95.59675675685902, 33.601489092218884, 21.050153400120177, 20.336646454393833, 19.155242422424593, 16.581220324406935, 14.359825423501192, 12.795399962546485, 12.524427857410647, 11.261612216669578, 10.701917257434909, 10.460800662880127, 9.969369219387778, 9.225414522532839, 8.16236744090015, 7.4650091952276725, 5.328601106955205, 4.829216466914365, 3.7726311001732147, 3.0299111689881384, 2.810099060743408, 0.8295241195104596, 0.14504532299698183, 0.08156815994437062, 0.08220725740836475, 0.08141554184895292, 0.07794348017820031, 0.07740541133541415, 0.07787382427964142, 0.07807019326332282, 166.12799644769132, 41.25475548499404, 35.84524973437752, 33.00840411949166, 32.88170119487402, 28.521440233951616, 23.61217694851325, 19.668449342308474, 14.51844627279075, 13.586582141486453, 12.809854850779752, 11.564328852640726, 11.35887544732572, 10.747313223521534, 9.675158549768181, 9.489697130648787, 8.965590467115542, 8.360227058928544, 8.231520919750789, 8.153132402116906, 5.809787227990172, 5.257099221185414, 4.8082211641624655, 4.408304291918466, 3.6818919806894796, 2.832453179900108, 2.730038769462344, 2.357117472382518, 2.3222313666409273, 1.7388351533083977, 154.46528480819012, 33.53472361672657, 31.703388749590587, 28.790072125883693, 24.739763206821184, 21.641261887663546, 20.45972451870261, 15.991522488352738, 15.081957260540145, 14.227694265735602, 11.913052922812753, 10.28967266397764, 10.20047219651588, 9.780165128546972, 9.660939789347088, 9.124545899831258, 8.595392945442681, 8.582594861394007, 6.559673452030788, 6.0388627654460185, 5.904887234702857, 5.8315238002414995, 4.1325222814663585, 3.8527681217556564, 3.2593260410200076, 3.1626705423504067, 1.5695393016958672, 1.091337942276002, 0.10525908318585153, 0.09128826944957938, 0.09266746249382055, 97.43426708674565, 94.1566683343936, 83.04691899359118, 19.060810355920154, 17.604690910127168, 17.429914106334707, 15.856477670745187, 10.327046744066593, 9.580246922413679, 8.8985281871872, 7.61490108519043, 7.552071629156367, 6.948612263783649, 6.0659086918495255, 4.7361167610327835, 1.5173767841806705, 0.08409204818171848, 0.08393637030024914, 0.08188946201464356, 0.08290534683185856, 0.08204742946071218, 0.08030640325218633, 0.07891128271174079, 0.07877684898704514, 0.07746001779348494, 0.07650994231939691, 0.07619148014830308, 0.07652902202439094, 0.07656175153800693, 0.0761259523090203, 0.07936210173472434, 0.08153594948712956, 0.07694863165451704, 0.0765520803170493, 143.0615874948045, 32.175149828411314, 29.016121806615224, 27.156833127554567, 19.88566953445118, 17.738409199018573, 12.146176609502678, 11.252050205657172, 10.160594193262328, 9.716642524136319, 7.265500884999993, 6.72681782551375, 6.6654453049814135, 5.0266273796875085, 4.725868520264323, 4.593829710877791, 4.101282516753586, 4.075386397871002, 3.5288481260063733, 0.0838257417946889, 0.07914645866651998, 0.0745652798971398, 0.0740606017729168, 0.07324986312808648, 0.0716803858783601, 0.06881602788804307, 0.06756080577124576, 0.0660634851078692, 0.06593908649303333, 0.06591390868416827, 0.06733358952060117, 0.06717597797703308, 0.06621927623755912, 0.06630479719165515, 0.06637889518615905, 112.2198757130349, 86.13635464318854, 29.009920798533905, 13.940775670461365, 12.506176039098454, 10.874874810127254, 9.811613301023135, 9.78469148228436, 8.928343903623437, 8.88004724536166, 8.707394547977481, 7.155162714894671, 6.905754973650219, 6.557068317355744, 4.571407215490946, 3.7886088619792133, 3.432871576346302, 1.3837850123901942, 0.0973043562206104, 0.07950651297702059, 0.07933607554210556, 0.07494264025841912, 0.07246755402168038, 0.07197686770069023, 0.06957846346319678, 0.07087429486933436, 0.06952498967240789, 0.06933945126018332, 0.06867614825509476, 0.06865455725102015, 0.06998926519003469, 0.06932488051381862, 0.0711430689352827, 0.0696093229041875, 64.86728283861756, 51.33241210558095, 32.492277788749945, 23.136861541129605, 22.111447145397186, 19.15465372306697, 17.380220691494955, 16.44480806566394, 14.706006594168123, 11.933623499022152, 10.553916378846434, 8.78782838818407, 8.515579795182592, 8.083180516730659, 7.155440893353152, 6.144024369045304, 5.757585354386395, 5.016402659901643, 4.780866026828395, 1.1889676139146188, 0.09106858446899897, 0.0894880221932905, 0.09320032265091585, 0.08426290101239674, 0.09102587427850926, 0.08263090269476533, 0.08279641392639965, 0.08294249270802016, 0.08695728230600722, 0.08203723844174772, 0.08293397285429026, 0.08507770644093163, 0.08368848962165157, 0.08385774050390012, 0.0833627016128444, 51.80340269597211, 50.029658400108275, 34.76162780622397, 32.0975520027427, 27.308398417350116, 14.356346131333876, 13.541747109229055, 11.922578917140727, 11.708675940241994, 7.952347407976513, 6.910644858967705, 5.983193390989703, 5.719377123052361, 5.005156805994432, 3.7379094465359626, 2.4732319789498285, 0.5219160370648922, 0.08399158147453566, 0.07825468769184724, 0.07755271223372581, 0.07513297711884974, 0.07512281990329961, 0.07546556104722424, 0.07684067800002875, 0.07513499961287118, 0.07532284993147276, 0.07518486393449701, 0.07514940764550175, 0.07512977334513436, 0.07512688278951966, 0.07515123325957421, 0.07601904427836477, 0.0754779376367448, 0.07634112197673412, 0.07534294063535826, 0.07517826845620587, 0.0751747783116556, 64.89622453579611, 63.96885878772278, 50.67208777015679, 19.559964983335664, 18.106019209301195, 16.041381164715254, 9.702052517515565, 8.122546425767169, 5.22571465732355, 4.110273634453476, 0.08684352283968422, 0.08487779830220707, 0.08540290634027942, 0.08417060996594147, 0.08210789397842728, 0.08057888508502745, 0.07833905641415456, 0.07687470848744608, 0.08273487910752907, 0.07628079980365358, 0.07559912992445064, 0.07443792946341315, 0.07183887502145148, 0.07234999012466808, 0.07164640044007306, 0.07164554791211465, 0.07854963901726489, 0.0716541715603093, 0.07168644466196547, 0.07165058930340715, 0.07350566554874435, 0.0718168486500646, 0.07199983885790577, 0.07248283693326343, 28.365928094044992, 24.24287514122812, 22.220767661796764, 19.608019664436384, 17.47862012340267, 16.978318608866047, 12.110429868936022, 12.091353401214908, 12.05178707725742, 11.621768136348217, 9.815618247777632, 9.295419986912854, 7.038478528443974, 6.918302960029168, 5.8267426294941345, 5.515330462282564, 5.021671493569011, 4.198151217710314, 2.6566908831326117, 1.958539926996399, 0.08826908902070245, 0.09053528837592682, 0.08649369494622476, 0.08151878064019, 0.07951877975238687, 0.07719483772580935, 0.07272002574585745, 0.07167669230829832, 0.07787671511002668, 0.07086858451380162, 0.07112120870097165, 0.07172204882020997, 59.09518638049274, 43.59714963381513, 28.572631178618145, 18.78323111388397, 16.603405523811542, 14.433951757566996, 8.9832865524713, 7.318807049480635, 5.8411018664055545, 5.1808330415754975, 4.677355129529607, 2.8873810071904065, 2.7442990853673965, 0.07056725342099553, 0.06881746103084257, 0.06582220513799909, 0.06519481380757759, 0.06622796706541581, 0.06587313013886344, 0.06704121159199082, 0.0642411555842012, 0.06331473903583779, 0.0621276544839962, 0.06066837342800772, 0.06066695559449264, 0.060666790410005444, 0.060675565835887596, 0.060670761720385054, 0.06066787099185917, 0.060667554388258715, 0.06130226201492551, 0.06093257224989966, 0.06097579552404861, 0.060863635257244274, 0.06067481562300826, 0.06067428565611185, 41.51310227784122, 17.982552626395048, 16.287131975373278, 11.939090635105453, 11.196763233050797, 10.858859822048169, 9.317882941491051, 8.97527933853966, 8.719533152637863, 7.197339057976044, 6.679130446617648, 4.886553245467274, 3.9075013951892696, 3.8436224253735807, 3.174128979207679, 0.07854686163121327, 0.0767100278625383, 0.07359194591451862, 0.0729058564716596, 0.0717986350432135, 0.07300539990285076, 0.06591346940118323, 0.06659179442399006, 0.06591339375617229, 0.06874290619707442, 0.06591338835295722, 0.06591348020761337, 0.06688181199274573, 0.06740219023269525, 0.06591386923909824, 0.068326858636866, 0.06597838362700588, 0.06609557936182303, 0.06591579818687739, 0.06591550641326374, 13.117131326066902, 0.04513004422645795, 0.04513004422645795, 0.04513004422645795, 0.04513004422645795, 0.04513004422645795, 0.04513004422645795, 0.04513004422645795, 0.04513004422645795, 0.04513004422645795, 0.04513004422645795, 0.04513004422645795, 0.04513004422645795, 0.04513004422645795, 0.04513004422645795, 0.04513004422645795, 0.04513004422645795, 0.04513004422645795, 0.04513004422645795, 0.04513004422645795, 0.04513004422645795, 0.04513004422645795, 0.04513004422645795, 0.04513004422645795, 0.04513004422645795, 0.04513004422645795, 0.04513004422645795, 0.04513004422645795, 0.04513004422645795, 0.04513004422645795, 0.04513721114331812, 0.04513677063099149, 0.045131803151563565, 0.04513066906663756, 0.045130453496775594, 0.045130356646547756, 0.045130131704083094, 0.045130128579882196, 0.04513010358627501, 0.04513004422645795, 0.04513004422645795, 0.04513004422645795, 0.04513004422645795, 0.04513004422645795, 0.04513004422645795, 0.04513004422645795, 0.04513004422645795, 0.04513004422645795, 0.04513004422645795, 0.04513004422645795, 0.04513004422645795, 0.04513004422645795, 0.04513004422645795, 0.04513004422645795, 0.04513004422645795, 0.04513004422645795, 0.04513004422645795, 0.04513004422645795, 0.04513004422645795], \"Total\": [404.0, 278.0, 143.0, 167.0, 155.0, 113.0, 98.0, 95.0, 87.0, 83.0, 96.0, 65.0, 64.0, 60.0, 65.0, 51.0, 52.0, 50.0, 42.0, 44.0, 52.0, 35.0, 33.0, 29.0, 42.0, 29.0, 33.0, 33.0, 28.0, 14.0, 404.3998799078387, 42.0199764529505, 25.40739664596781, 21.5392699738564, 17.878359374330817, 16.40428365218493, 16.064739205916613, 15.441259208274229, 14.718926100881436, 14.43741583759961, 14.310122948727448, 13.895935229148623, 13.20263547611849, 12.576923742734614, 11.989704121573215, 11.393161023364458, 9.751157257963625, 9.519944431046993, 9.206802094789518, 8.921630530951457, 7.4798924272167735, 6.849561820525717, 6.485984559648658, 6.181115801188242, 5.901680539822508, 5.492082422786418, 5.46292506857435, 3.7319411251324213, 2.0638865096069985, 1.0915945590425697, 278.38362140008115, 96.5169875027411, 34.52171966312368, 21.97038431730395, 21.256876775550076, 20.075472424928666, 17.501450758907644, 15.280055894607463, 13.715632611899423, 13.4446580715164, 12.181843811502635, 11.622147511127235, 11.381033657179012, 10.889609972873322, 10.145646084283774, 9.082597476407244, 8.385239963950266, 6.248831655352612, 5.749446407443553, 4.6928630012536985, 3.9501413078775447, 3.730349386897416, 1.7608300029502346, 1.0919834429714532, 1.012714834424127, 1.0221130152209361, 1.0489309087025436, 1.004280546795109, 1.0075570369774698, 1.0172916882318839, 1.0398623778615776, 167.0357832027114, 42.162541937955865, 36.75303746640103, 33.9161909603762, 33.78948847733188, 29.429227353248947, 24.519964284729177, 20.57623630916015, 15.42623436042419, 14.494369248829193, 13.717641960187448, 12.47211730693134, 12.266662523233235, 11.655099763142253, 10.582946516360861, 10.39748636959561, 9.873376874639552, 9.268014066706034, 9.139308294431682, 9.060919645072886, 6.7175741961260185, 6.164885594513937, 5.716008685763386, 5.316090708612297, 4.589678413972144, 3.7402397801811587, 3.6378251973247044, 3.2649039308686265, 3.230018343425453, 2.6466215676026246, 155.37840140433556, 34.44784032211637, 32.61650513054559, 29.703188483154722, 25.652879912020445, 22.554378183261807, 21.37284115783559, 16.904639114594488, 15.995073542487226, 15.14081140418751, 12.82616932010962, 11.2027889716286, 11.113600156064567, 10.69328150278523, 10.574056533463116, 10.037662495453663, 9.508510756209862, 9.495711098684573, 7.472790058985153, 6.951978568557087, 6.818004592813214, 6.744639740455663, 5.045639237509125, 4.76588432899983, 4.1724426520343325, 4.075786635073787, 2.48265517045079, 2.0044540186020026, 1.0261294732295343, 1.018356707727169, 1.0489309087025436, 98.34931079205283, 95.07171196036357, 83.96196299003543, 19.975854284922796, 18.51973430172642, 18.34495915807511, 16.771522957617474, 11.242090575639436, 10.495290917997192, 9.813576067683295, 8.529946942097803, 8.467115270828595, 7.86365533463987, 6.9809518675784235, 5.6511620504028794, 2.43242043546717, 1.0075570369774698, 1.0199453790414477, 1.0010354593890898, 1.0142301713971396, 1.0172916882318839, 1.0190182164456076, 1.0015661963628573, 1.0115679356618317, 0.9998061089974757, 0.9953748561855259, 0.9937449037772269, 0.9989905482552444, 0.9997340309350994, 0.9943305114161443, 1.0369200487072776, 1.0915945590425697, 1.0115110754858738, 1.0919834429714532, 143.9868258258283, 33.10038897468785, 29.941360846225802, 28.08207183854393, 20.810909010562778, 18.663648312754365, 13.07141570749015, 12.17728870598371, 11.08583903454475, 10.641885487915232, 8.190739800162289, 7.652055900240064, 7.5906836087074945, 5.951865438320358, 5.65110865823559, 5.519067960227999, 5.026554669947824, 5.000625022510045, 4.4540865478885925, 1.0162930189532777, 1.0199453790414477, 1.0038013774371408, 1.0398623778615776, 1.035361643360051, 1.0204541013732866, 1.0261294732295343, 1.0177682657310283, 0.9953748561855259, 0.9937449037772269, 0.9943305114161443, 1.0208592672775967, 1.0221130152209361, 1.0002505059807676, 1.0049519287692588, 1.0919834429714532, 113.14237174700753, 87.05885101226897, 29.932417464963272, 14.863272160250586, 13.428672050281154, 11.797370468372947, 10.734109403631404, 10.707187297681163, 9.850839846307853, 9.80254459773307, 9.629890123324182, 8.077658550883383, 7.82825207209158, 7.479564314991368, 5.493903172314108, 4.7111042025535586, 4.355367287851326, 2.3062803514661154, 1.052487222033184, 1.004924499396576, 1.0398623778615776, 1.037300580939609, 1.0052456692822629, 1.0049519287692588, 0.9953748561855259, 1.0177682657310283, 1.0015661963628573, 1.0005484532407187, 0.9937449037772269, 0.9943305114161443, 1.0232775496141024, 1.0172916882318839, 1.0915945590425697, 1.0919834429714532, 65.7764167667461, 52.24154593243686, 33.401411950884295, 24.045995413199684, 23.020580616008637, 20.063787112753676, 18.289354449452766, 17.35394227020222, 15.615139778639774, 12.842758153471957, 11.46304982210047, 9.69696208652658, 9.424713342181086, 8.99231416157128, 8.064576291676035, 7.053160241985192, 6.666719051919472, 5.925536057919002, 5.689999535897456, 2.09810077105466, 1.0237437970338916, 1.0122429863597535, 1.0919834429714532, 0.9998061089974757, 1.0915945590425697, 0.9943305114161443, 0.9966067529432109, 1.0002505059807676, 1.0489309087025436, 0.9937449037772269, 1.0049519287692588, 1.037300580939609, 1.0208592672775967, 1.0369200487072776, 1.0190182164456076, 52.71942565153367, 50.94568098098105, 35.67765041787234, 33.01357501027628, 28.224421842663975, 15.27236977314157, 14.4577702099194, 12.838601939111403, 12.624699073580834, 8.868370187785814, 7.826667469819423, 6.899215881023328, 6.635401100749305, 5.92118234137335, 4.653932369217627, 3.389254517256639, 1.4379383603483231, 1.035361643360051, 1.0027505694876953, 0.9953748561855259, 0.9937449037772269, 0.9943305114161443, 0.9998061089974757, 1.0190182164456076, 0.9966067529432109, 1.0005484532407187, 0.9989905482552444, 0.9997340309350994, 1.0002505059807676, 1.0010354593890898, 1.0015661963628573, 1.0376637537043991, 1.0172916882318839, 1.0919834429714532, 1.037300580939609, 1.0199453790414477, 1.0208592672775967, 65.81572298124287, 64.88835698728394, 51.591585773923754, 20.479463429902697, 19.025516854019877, 16.96088018976462, 10.621550507209662, 9.042044719869155, 6.145216528852987, 5.029771186928157, 1.0115110754858738, 1.0237437970338916, 1.0398623778615776, 1.052487222033184, 1.0376637537043991, 1.0204541013732866, 1.0023260174415758, 0.9997340309350994, 1.0919834429714532, 1.0142301713971396, 1.0177682657310283, 1.0122429863597535, 0.9937449037772269, 1.0027505694876953, 0.9943305114161443, 0.9953748561855259, 1.0915945590425697, 0.9966067529432109, 0.9989905482552444, 0.9998061089974757, 1.035361643360051, 1.004924499396576, 1.0162930189532777, 1.0489309087025436, 29.286772940902175, 25.163720503054947, 23.141613075326152, 20.528865098368186, 18.399465351427363, 17.899164214340036, 13.031275449624522, 13.012198505205816, 12.97263370703397, 12.542613189577862, 10.73646456502972, 10.21626542654151, 7.9593241397367125, 7.839150205651195, 6.7475874681544745, 6.436179439854493, 5.942516279978936, 5.118996105165988, 3.57753577399956, 2.8793849187754543, 1.0208592672775967, 1.0489309087025436, 1.0369200487072776, 1.035361643360051, 1.0190182164456076, 1.0232775496141024, 1.0052456692822629, 0.9966067529432109, 1.0915945590425697, 0.9943305114161443, 1.0204541013732866, 1.7608300029502346, 60.02566128671176, 44.52762480866746, 29.50310650774331, 19.713706123832427, 17.533880971920922, 15.364427114264048, 9.913761517527814, 8.249282487344033, 6.771577502500335, 6.111309679481419, 5.6078301171528455, 3.8178644555145134, 3.674774209636484, 1.018356707727169, 1.0190182164456076, 1.0002505059807676, 1.0052456692822629, 1.0221130152209361, 1.0172916882318839, 1.0369200487072776, 1.0115679356618317, 1.0005484532407187, 0.9966067529432109, 0.9937449037772269, 0.9943305114161443, 0.9953748561855259, 0.9989905482552444, 0.9997340309350994, 0.9998061089974757, 1.0010354593890898, 1.0237437970338916, 1.0122429863597535, 1.0489309087025436, 1.037300580939609, 1.0199453790414477, 1.0208592672775967, 42.43833041969497, 18.907781088276295, 17.212360305387957, 12.864318734857147, 12.121991753411379, 11.784088829498891, 10.24311108641834, 9.900507282912892, 9.644761023027035, 8.12256856172195, 7.604359242271103, 5.81178129129099, 4.8327293638906825, 4.768850578104824, 4.0993604647467325, 1.035361643360051, 1.0204541013732866, 1.0122429863597535, 1.012714834424127, 1.052487222033184, 1.0915945590425697, 0.9937449037772269, 1.004280546795109, 0.9943305114161443, 1.037300580939609, 0.9953748561855259, 0.9966067529432109, 1.0115110754858738, 1.0208592672775967, 0.9989905482552444, 1.0398623778615776, 1.0027505694876953, 1.7608300029502346, 10.641885487915232, 11.08583903454475, 14.063142683298123, 0.9937449037772269, 0.9943305114161443, 0.9953748561855259, 0.9966067529432109, 0.9989905482552444, 0.9997340309350994, 0.9998061089974757, 1.0002505059807676, 1.0005484532407187, 1.0010354593890898, 1.0015661963628573, 1.0023260174415758, 1.0027505694876953, 1.0038013774371408, 1.004280546795109, 1.004924499396576, 1.0049519287692588, 1.0050827905215327, 1.0052456692822629, 1.0075570369774698, 1.0115110754858738, 1.0115679356618317, 1.0122429863597535, 1.012714834424127, 1.0142301713971396, 1.0162930189532777, 1.0172916882318839, 1.0177682657310283, 1.018356707727169, 9.751157257963625, 10.889609972873322, 7.839150205651195, 14.863272160250586, 33.10038897468785, 98.34931079205283, 15.42623436042419, 278.38362140008115, 113.14237174700753, 51.591585773923754, 1.0369200487072776, 11.622147511127235, 83.96196299003543, 6.436179439854493, 23.141613075326152, 5.118996105165988, 4.653932369217627, 404.3998799078387, 9.813576067683295, 1.4379383603483231, 6.635401100749305, 6.145216528852987, 60.02566128671176, 5.6511620504028794, 9.80254459773307, 95.07171196036357, 167.0357832027114, 42.162541937955865, 4.589678413972144], \"Category\": [\"Default\", \"Default\", \"Default\", \"Default\", \"Default\", \"Default\", \"Default\", \"Default\", \"Default\", \"Default\", \"Default\", \"Default\", \"Default\", \"Default\", \"Default\", \"Default\", \"Default\", \"Default\", \"Default\", \"Default\", \"Default\", \"Default\", \"Default\", \"Default\", \"Default\", \"Default\", \"Default\", \"Default\", \"Default\", \"Default\", \"Topic1\", \"Topic1\", \"Topic1\", \"Topic1\", \"Topic1\", \"Topic1\", \"Topic1\", \"Topic1\", \"Topic1\", \"Topic1\", \"Topic1\", \"Topic1\", \"Topic1\", \"Topic1\", \"Topic1\", \"Topic1\", \"Topic1\", \"Topic1\", \"Topic1\", \"Topic1\", \"Topic1\", \"Topic1\", \"Topic1\", \"Topic1\", \"Topic1\", \"Topic1\", \"Topic1\", \"Topic1\", \"Topic1\", \"Topic1\", \"Topic2\", \"Topic2\", \"Topic2\", \"Topic2\", \"Topic2\", \"Topic2\", \"Topic2\", \"Topic2\", \"Topic2\", \"Topic2\", \"Topic2\", \"Topic2\", \"Topic2\", \"Topic2\", \"Topic2\", \"Topic2\", \"Topic2\", \"Topic2\", \"Topic2\", \"Topic2\", \"Topic2\", \"Topic2\", \"Topic2\", \"Topic2\", \"Topic2\", \"Topic2\", \"Topic2\", \"Topic2\", \"Topic2\", \"Topic2\", \"Topic2\", \"Topic3\", \"Topic3\", \"Topic3\", \"Topic3\", \"Topic3\", \"Topic3\", \"Topic3\", \"Topic3\", \"Topic3\", \"Topic3\", \"Topic3\", \"Topic3\", \"Topic3\", \"Topic3\", \"Topic3\", \"Topic3\", \"Topic3\", \"Topic3\", \"Topic3\", \"Topic3\", \"Topic3\", \"Topic3\", \"Topic3\", \"Topic3\", \"Topic3\", \"Topic3\", \"Topic3\", \"Topic3\", \"Topic3\", \"Topic3\", \"Topic4\", \"Topic4\", \"Topic4\", \"Topic4\", \"Topic4\", \"Topic4\", \"Topic4\", \"Topic4\", \"Topic4\", \"Topic4\", \"Topic4\", \"Topic4\", \"Topic4\", \"Topic4\", \"Topic4\", \"Topic4\", \"Topic4\", \"Topic4\", \"Topic4\", \"Topic4\", \"Topic4\", \"Topic4\", \"Topic4\", \"Topic4\", \"Topic4\", \"Topic4\", \"Topic4\", \"Topic4\", \"Topic4\", \"Topic4\", \"Topic4\", \"Topic5\", \"Topic5\", \"Topic5\", \"Topic5\", \"Topic5\", \"Topic5\", \"Topic5\", \"Topic5\", \"Topic5\", \"Topic5\", \"Topic5\", \"Topic5\", \"Topic5\", \"Topic5\", \"Topic5\", \"Topic5\", \"Topic5\", \"Topic5\", \"Topic5\", \"Topic5\", \"Topic5\", \"Topic5\", \"Topic5\", \"Topic5\", \"Topic5\", \"Topic5\", \"Topic5\", \"Topic5\", \"Topic5\", \"Topic5\", \"Topic5\", \"Topic5\", \"Topic5\", \"Topic5\", \"Topic6\", \"Topic6\", \"Topic6\", \"Topic6\", \"Topic6\", \"Topic6\", \"Topic6\", \"Topic6\", \"Topic6\", \"Topic6\", \"Topic6\", \"Topic6\", \"Topic6\", \"Topic6\", \"Topic6\", \"Topic6\", \"Topic6\", \"Topic6\", \"Topic6\", \"Topic6\", \"Topic6\", \"Topic6\", \"Topic6\", \"Topic6\", \"Topic6\", \"Topic6\", \"Topic6\", \"Topic6\", \"Topic6\", \"Topic6\", \"Topic6\", \"Topic6\", \"Topic6\", \"Topic6\", \"Topic6\", \"Topic7\", \"Topic7\", \"Topic7\", \"Topic7\", \"Topic7\", \"Topic7\", \"Topic7\", \"Topic7\", \"Topic7\", \"Topic7\", \"Topic7\", \"Topic7\", \"Topic7\", \"Topic7\", \"Topic7\", \"Topic7\", \"Topic7\", \"Topic7\", \"Topic7\", \"Topic7\", \"Topic7\", \"Topic7\", \"Topic7\", \"Topic7\", \"Topic7\", \"Topic7\", \"Topic7\", \"Topic7\", \"Topic7\", \"Topic7\", \"Topic7\", \"Topic7\", \"Topic7\", \"Topic7\", \"Topic8\", \"Topic8\", \"Topic8\", \"Topic8\", \"Topic8\", \"Topic8\", \"Topic8\", \"Topic8\", \"Topic8\", \"Topic8\", \"Topic8\", \"Topic8\", \"Topic8\", \"Topic8\", \"Topic8\", \"Topic8\", \"Topic8\", \"Topic8\", \"Topic8\", \"Topic8\", \"Topic8\", \"Topic8\", \"Topic8\", \"Topic8\", \"Topic8\", \"Topic8\", \"Topic8\", \"Topic8\", \"Topic8\", \"Topic8\", \"Topic8\", \"Topic8\", \"Topic8\", \"Topic8\", \"Topic8\", \"Topic9\", \"Topic9\", \"Topic9\", \"Topic9\", \"Topic9\", \"Topic9\", \"Topic9\", \"Topic9\", \"Topic9\", \"Topic9\", \"Topic9\", \"Topic9\", \"Topic9\", \"Topic9\", \"Topic9\", \"Topic9\", \"Topic9\", \"Topic9\", \"Topic9\", \"Topic9\", \"Topic9\", \"Topic9\", \"Topic9\", \"Topic9\", \"Topic9\", \"Topic9\", \"Topic9\", \"Topic9\", \"Topic9\", \"Topic9\", \"Topic9\", \"Topic9\", \"Topic9\", \"Topic9\", \"Topic9\", \"Topic9\", \"Topic9\", \"Topic10\", \"Topic10\", \"Topic10\", \"Topic10\", \"Topic10\", \"Topic10\", \"Topic10\", \"Topic10\", \"Topic10\", \"Topic10\", \"Topic10\", \"Topic10\", \"Topic10\", \"Topic10\", \"Topic10\", \"Topic10\", \"Topic10\", \"Topic10\", \"Topic10\", \"Topic10\", \"Topic10\", \"Topic10\", \"Topic10\", \"Topic10\", \"Topic10\", \"Topic10\", \"Topic10\", \"Topic10\", \"Topic10\", \"Topic10\", \"Topic10\", \"Topic10\", \"Topic10\", \"Topic10\", \"Topic11\", \"Topic11\", \"Topic11\", \"Topic11\", \"Topic11\", \"Topic11\", \"Topic11\", \"Topic11\", \"Topic11\", \"Topic11\", \"Topic11\", \"Topic11\", \"Topic11\", \"Topic11\", \"Topic11\", \"Topic11\", \"Topic11\", \"Topic11\", \"Topic11\", \"Topic11\", \"Topic11\", \"Topic11\", \"Topic11\", \"Topic11\", \"Topic11\", \"Topic11\", \"Topic11\", \"Topic11\", \"Topic11\", \"Topic11\", \"Topic11\", \"Topic11\", \"Topic12\", \"Topic12\", \"Topic12\", \"Topic12\", \"Topic12\", \"Topic12\", \"Topic12\", \"Topic12\", \"Topic12\", \"Topic12\", \"Topic12\", \"Topic12\", \"Topic12\", \"Topic12\", \"Topic12\", \"Topic12\", \"Topic12\", \"Topic12\", \"Topic12\", \"Topic12\", \"Topic12\", \"Topic12\", \"Topic12\", \"Topic12\", \"Topic12\", \"Topic12\", \"Topic12\", \"Topic12\", \"Topic12\", \"Topic12\", \"Topic12\", \"Topic12\", \"Topic12\", \"Topic12\", \"Topic12\", \"Topic12\", \"Topic13\", \"Topic13\", \"Topic13\", \"Topic13\", \"Topic13\", \"Topic13\", \"Topic13\", \"Topic13\", \"Topic13\", \"Topic13\", \"Topic13\", \"Topic13\", \"Topic13\", \"Topic13\", \"Topic13\", \"Topic13\", \"Topic13\", \"Topic13\", \"Topic13\", \"Topic13\", \"Topic13\", \"Topic13\", \"Topic13\", \"Topic13\", \"Topic13\", \"Topic13\", \"Topic13\", \"Topic13\", \"Topic13\", \"Topic13\", \"Topic13\", \"Topic13\", \"Topic13\", \"Topic13\", \"Topic13\", \"Topic14\", \"Topic14\", \"Topic14\", \"Topic14\", \"Topic14\", \"Topic14\", \"Topic14\", \"Topic14\", \"Topic14\", \"Topic14\", \"Topic14\", \"Topic14\", \"Topic14\", \"Topic14\", \"Topic14\", \"Topic14\", \"Topic14\", \"Topic14\", \"Topic14\", \"Topic14\", \"Topic14\", \"Topic14\", \"Topic14\", \"Topic14\", \"Topic14\", \"Topic14\", \"Topic14\", \"Topic14\", \"Topic14\", \"Topic14\", \"Topic14\", \"Topic14\", \"Topic14\", \"Topic14\", \"Topic14\", \"Topic14\", \"Topic14\", \"Topic14\", \"Topic14\", \"Topic14\", \"Topic14\", \"Topic14\", \"Topic14\", \"Topic14\", \"Topic14\", \"Topic14\", \"Topic14\", \"Topic14\", \"Topic14\", \"Topic14\", \"Topic14\", \"Topic14\", \"Topic14\", \"Topic14\", \"Topic14\", \"Topic14\", \"Topic14\", \"Topic14\", \"Topic14\"], \"logprob\": [30.0, 29.0, 28.0, 27.0, 26.0, 25.0, 24.0, 23.0, 22.0, 21.0, 20.0, 19.0, 18.0, 17.0, 16.0, 15.0, 14.0, 13.0, 12.0, 11.0, 10.0, 9.0, 8.0, 7.0, 6.0, 5.0, 4.0, 3.0, 2.0, 1.0, -0.6169, -2.9009, -3.4187, -3.5905, -3.7859, -3.8768, -3.899, -3.941, -3.992, -4.0126, -4.0221, -4.0535, -4.1084, -4.1606, -4.2123, -4.2677, -4.4381, -4.4646, -4.5017, -4.5366, -4.7351, -4.8361, -4.8993, -4.9555, -5.01, -5.0957, -5.1021, -5.581, -6.4772, -8.7662, -0.8224, -1.8879, -2.9335, -3.4012, -3.4357, -3.4955, -3.6398, -3.7837, -3.899, -3.9204, -4.0267, -4.0777, -4.1005, -4.1486, -4.2261, -4.3486, -4.4379, -4.775, -4.8734, -5.1203, -5.3396, -5.4149, -6.635, -8.3788, -8.9544, -8.9466, -8.9563, -8.9999, -9.0068, -9.0008, -8.9982, -1.2283, -2.6213, -2.7618, -2.8443, -2.8481, -2.9904, -3.1793, -3.362, -3.6656, -3.7319, -3.7908, -3.8931, -3.911, -3.9664, -4.0715, -4.0908, -4.1476, -4.2175, -4.2331, -4.2426, -4.5815, -4.6814, -4.7707, -4.8575, -5.0376, -5.2999, -5.3367, -5.4836, -5.4985, -5.7878, -1.1785, -2.7059, -2.762, -2.8584, -3.01, -3.1439, -3.2, -3.4464, -3.505, -3.5633, -3.7408, -3.8873, -3.896, -3.9381, -3.9504, -4.0075, -4.0672, -4.0687, -4.3375, -4.4202, -4.4427, -4.4552, -4.7996, -4.8697, -5.0369, -5.067, -5.7677, -6.1311, -8.4698, -8.6122, -8.5972, -1.4843, -1.5186, -1.6441, -3.1159, -3.1954, -3.2053, -3.2999, -3.7287, -3.8038, -3.8776, -4.0334, -4.0417, -4.125, -4.2608, -4.5083, -5.6465, -8.5394, -8.5412, -8.5659, -8.5536, -8.564, -8.5854, -8.6029, -8.6047, -8.6215, -8.6339, -8.638, -8.6336, -8.6332, -8.6389, -8.5973, -8.5702, -8.6281, -8.6333, -0.9715, -2.4635, -2.5669, -2.6331, -2.9447, -3.059, -3.4377, -3.5142, -3.6162, -3.6609, -3.9516, -4.0286, -4.0378, -4.32, -4.3817, -4.41, -4.5234, -4.5298, -4.6738, -8.4137, -8.4712, -8.5308, -8.5376, -8.5486, -8.5703, -8.6111, -8.6295, -8.6519, -8.6538, -8.6541, -8.6328, -8.6352, -8.6495, -8.6482, -8.6471, -1.1777, -1.4422, -2.5305, -3.2634, -3.372, -3.5117, -3.6146, -3.6174, -3.7089, -3.7144, -3.734, -3.9303, -3.9658, -4.0176, -4.3784, -4.5662, -4.6648, -5.5734, -8.2281, -8.4301, -8.4322, -8.4892, -8.5228, -8.5296, -8.5635, -8.545, -8.5642, -8.5669, -8.5765, -8.5768, -8.5576, -8.5671, -8.5412, -8.563, -1.722, -1.956, -2.4133, -2.7529, -2.7982, -2.9418, -3.039, -3.0943, -3.2061, -3.415, -3.5378, -3.721, -3.7524, -3.8046, -3.9265, -4.0789, -4.1438, -4.2816, -4.3297, -5.7213, -8.2905, -8.308, -8.2673, -8.3681, -8.2909, -8.3877, -8.3857, -8.3839, -8.3367, -8.3949, -8.384, -8.3585, -8.375, -8.373, -8.3789, -1.781, -1.8158, -2.1799, -2.2597, -2.4212, -3.0642, -3.1227, -3.25, -3.2681, -3.655, -3.7954, -3.9395, -3.9846, -4.118, -4.4099, -4.8229, -6.3787, -8.2055, -8.2762, -8.2852, -8.3169, -8.3171, -8.3125, -8.2945, -8.3169, -8.3144, -8.3162, -8.3167, -8.317, -8.317, -8.3167, -8.3052, -8.3124, -8.301, -8.3141, -8.3163, -8.3164, -1.4679, -1.4823, -1.7153, -2.6672, -2.7445, -2.8655, -3.3684, -3.5461, -3.9871, -4.2272, -8.0843, -8.1072, -8.1011, -8.1156, -8.1404, -8.1592, -8.1874, -8.2063, -8.1328, -8.214, -8.223, -8.2385, -8.274, -8.2669, -8.2767, -8.2767, -8.1847, -8.2766, -8.2762, -8.2767, -8.2511, -8.2743, -8.2718, -8.2651, -2.1967, -2.3537, -2.4408, -2.5659, -2.6809, -2.7099, -3.0478, -3.0493, -3.0526, -3.089, -3.2579, -3.3123, -3.5904, -3.6077, -3.7794, -3.8343, -3.9281, -4.1072, -4.5648, -4.8696, -7.9692, -7.9439, -7.9895, -8.0488, -8.0736, -8.1033, -8.163, -8.1774, -8.0945, -8.1888, -8.1852, -8.1768, -1.3867, -1.6909, -2.1134, -2.5329, -2.6563, -2.7963, -3.2705, -3.4754, -3.701, -3.8209, -3.9232, -4.4055, -4.4564, -8.1171, -8.1422, -8.1867, -8.1963, -8.1805, -8.1859, -8.1683, -8.211, -8.2255, -8.2445, -8.2682, -8.2683, -8.2683, -8.2681, -8.2682, -8.2682, -8.2682, -8.2578, -8.2639, -8.2632, -8.265, -8.2681, -8.2681, -1.4979, -2.3345, -2.4335, -2.7441, -2.8083, -2.8389, -2.9919, -3.0294, -3.0583, -3.2502, -3.3249, -3.6374, -3.861, -3.8775, -4.0688, -7.7679, -7.7916, -7.8331, -7.8425, -7.8578, -7.8411, -7.9433, -7.9331, -7.9433, -7.9013, -7.9433, -7.9433, -7.9287, -7.921, -7.9433, -7.9073, -7.9423, -7.9405, -7.9433, -7.9433, -0.7159, -6.388, -6.388, -6.388, -6.388, -6.388, -6.388, -6.388, -6.388, -6.388, -6.388, -6.388, -6.388, -6.388, -6.388, -6.388, -6.388, -6.388, -6.388, -6.388, -6.388, -6.388, -6.388, -6.388, -6.388, -6.388, -6.388, -6.388, -6.388, -6.388, -6.3878, -6.3878, -6.3879, -6.388, -6.388, -6.388, -6.388, -6.388, -6.388, -6.388, -6.388, -6.388, -6.388, -6.388, -6.388, -6.388, -6.388, -6.388, -6.388, -6.388, -6.388, -6.388, -6.388, -6.388, -6.388, -6.388, -6.388, -6.388, -6.388], \"loglift\": [30.0, 29.0, 28.0, 27.0, 26.0, 25.0, 24.0, 23.0, 22.0, 21.0, 20.0, 19.0, 18.0, 17.0, 16.0, 15.0, 14.0, 13.0, 12.0, 11.0, 10.0, 9.0, 8.0, 7.0, 6.0, 5.0, 4.0, 3.0, 2.0, 1.0, 1.9518, 1.9321, 1.9174, 1.9107, 1.9016, 1.8967, 1.8955, 1.893, 1.89, 1.8887, 1.8881, 1.886, 1.8823, 1.8786, 1.8748, 1.8704, 1.8556, 1.8531, 1.8495, 1.846, 1.8238, 1.8109, 1.8022, 1.7941, 1.7858, 1.7721, 1.771, 1.6732, 1.3694, -0.2827, 2.1197, 2.1134, 2.096, 2.0802, 2.0788, 2.0761, 2.069, 2.0609, 2.0536, 2.0521, 2.0445, 2.0405, 2.0387, 2.0347, 2.0279, 2.0162, 2.0068, 1.9637, 1.9486, 1.9048, 1.8578, 1.8397, 1.3703, 0.1043, -0.3959, -0.3974, -0.4329, -0.433, -0.4432, -0.4468, -0.4662, 2.2246, 2.2083, 2.2051, 2.203, 2.2029, 2.1988, 2.1924, 2.185, 2.1694, 2.1654, 2.1616, 2.1545, 2.1532, 2.149, 2.1404, 2.1387, 2.1336, 2.127, 2.1255, 2.1245, 2.0849, 2.0708, 2.0571, 2.0428, 2.0097, 1.9521, 1.943, 1.9043, 1.9001, 1.81, 2.3468, 2.3258, 2.3243, 2.3214, 2.3164, 2.3113, 2.309, 2.2971, 2.2939, 2.2904, 2.2788, 2.2676, 2.2669, 2.2634, 2.2623, 2.2573, 2.2517, 2.2515, 2.2223, 2.2118, 2.2089, 2.2072, 2.153, 2.14, 2.1057, 2.099, 1.8941, 1.7447, 0.0755, -0.0593, -0.0739, 2.4982, 2.4979, 2.4966, 2.4607, 2.4569, 2.4564, 2.4515, 2.4227, 2.4164, 2.4097, 2.3941, 2.3932, 2.3839, 2.3671, 2.331, 2.0357, 0.0242, 0.0102, 0.0042, 0.0034, -0.01, -0.0331, -0.0334, -0.045, -0.0502, -0.0581, -0.0606, -0.0615, -0.0618, -0.0621, -0.0624, -0.0868, -0.0685, -0.1502, 2.6299, 2.608, 2.605, 2.6029, 2.5909, 2.5855, 2.563, 2.5574, 2.5492, 2.5454, 2.5165, 2.5075, 2.5064, 2.4674, 2.4576, 2.4529, 2.4329, 2.4318, 2.4035, 0.1412, 0.0802, 0.0365, -0.0056, -0.0123, -0.0194, -0.0657, -0.076, -0.0761, -0.0764, -0.0773, -0.0824, -0.0859, -0.0787, -0.0821, -0.164, 2.6648, 2.6623, 2.6416, 2.6089, 2.6018, 2.5915, 2.5831, 2.5828, 2.5746, 2.5741, 2.5722, 2.5517, 2.5476, 2.5413, 2.4891, 2.455, 2.4349, 2.1621, 0.2919, 0.1361, 0.0998, 0.0453, 0.0431, 0.0366, 0.0123, 0.0085, 0.0053, 0.0036, 0.0009, -0.0, -0.0095, -0.0132, -0.0578, -0.0799, 2.6629, 2.6592, 2.6492, 2.6382, 2.6365, 2.6304, 2.6258, 2.623, 2.6168, 2.6034, 2.5941, 2.5783, 2.5753, 2.5702, 2.5572, 2.5388, 2.5302, 2.5102, 2.5027, 2.1088, 0.2572, 0.251, 0.2158, 0.2032, 0.1925, 0.1891, 0.1888, 0.1869, 0.1867, 0.1825, 0.1821, 0.176, 0.1755, 0.1619, 0.1734, 2.8251, 2.8245, 2.8167, 2.8145, 2.8097, 2.7808, 2.7772, 2.7687, 2.7674, 2.7337, 2.7182, 2.7002, 2.6941, 2.6746, 2.6235, 2.5276, 1.8292, 0.3309, 0.2921, 0.2905, 0.2605, 0.2597, 0.2588, 0.2578, 0.2576, 0.2562, 0.2559, 0.2547, 0.2539, 0.2531, 0.2529, 0.2289, 0.2416, 0.1821, 0.2203, 0.235, 0.2341, 2.9163, 2.9161, 2.9124, 2.8845, 2.8809, 2.8747, 2.8399, 2.8232, 2.7683, 2.7285, 0.4753, 0.4404, 0.4309, 0.4043, 0.3937, 0.3916, 0.3814, 0.3651, 0.3503, 0.3429, 0.3305, 0.3205, 0.3034, 0.3014, 0.3001, 0.299, 0.2987, 0.2979, 0.296, 0.2947, 0.2853, 0.2919, 0.2832, 0.2582, 2.9973, 2.992, 2.9887, 2.9834, 2.9779, 2.9765, 2.956, 2.9559, 2.9556, 2.953, 2.9396, 2.9348, 2.9063, 2.9043, 2.8825, 2.8749, 2.8609, 2.831, 2.7317, 2.6439, 0.5813, 0.5795, 0.5453, 0.4876, 0.4787, 0.4448, 0.4029, 0.3971, 0.389, 0.388, 0.3657, -0.1715, 3.0896, 3.0841, 3.0732, 3.0569, 3.0507, 3.0427, 3.0067, 2.9855, 2.9574, 2.94, 2.9238, 2.8259, 2.8133, 0.4358, 0.4101, 0.3842, 0.3696, 0.3687, 0.368, 0.3665, 0.3486, 0.345, 0.3301, 0.3092, 0.3085, 0.3075, 0.304, 0.3032, 0.3031, 0.3018, 0.2898, 0.2951, 0.2602, 0.2695, 0.2832, 0.2823, 3.3252, 3.2971, 3.292, 3.2726, 3.2678, 3.2655, 3.2526, 3.2491, 3.2464, 3.2263, 3.2175, 3.1738, 3.1347, 3.1315, 3.0914, 0.7684, 0.7593, 0.7258, 0.716, 0.6622, 0.6424, 0.6341, 0.6338, 0.6335, 0.6332, 0.6325, 0.6312, 0.631, 0.6295, 0.6288, 0.6247, 0.6261, 0.0648, -1.7369, -1.7778, 5.2117, 2.1894, 2.1888, 2.1878, 2.1865, 2.1841, 2.1834, 2.1833, 2.1829, 2.1826, 2.1821, 2.1816, 2.1808, 2.1804, 2.1793, 2.1789, 2.1782, 2.1782, 2.1781, 2.1779, 2.1756, 2.1717, 2.1716, 2.171, 2.1705, 2.169, 2.167, 2.166, 2.1655, 2.1649, -0.0941, -0.2045, 0.124, -0.5157, -1.3164, -2.4054, -0.5529, -3.4459, -2.5455, -1.7602, 2.1469, -0.2698, -2.2472, 0.3212, -0.9585, 0.5502, 0.6454, -3.8193, -0.1006, 1.8199, 0.2907, 0.3675, -1.9116, 0.4513, -0.0995, -2.3715, -2.9351, -1.5584, 0.6593]}, \"token.table\": {\"Topic\": [8, 3, 10, 1, 7, 13, 10, 11, 8, 5, 3, 6, 1, 5, 3, 3, 4, 10, 8, 9, 5, 1, 4, 11, 1, 10, 4, 1, 1, 6, 3, 6, 4, 8, 3, 3, 6, 12, 9, 7, 3, 2, 6, 1, 4, 3, 1, 4, 2, 7, 4, 1, 11, 4, 7, 5, 2, 5, 5, 1, 3, 8, 7, 12, 4, 13, 4, 11, 9, 3, 2, 1, 4, 3, 11, 10, 1, 5, 13, 4, 7, 8, 6, 2, 7, 8, 5, 1, 4, 6, 8, 5, 13, 4, 7, 6, 1, 6, 11, 11, 10, 2, 4, 13, 1, 1, 1, 9, 4, 8, 11, 8, 3, 13, 3, 6, 2, 1, 3, 3, 6, 6, 2, 10, 12, 10, 12, 8, 8, 6, 12, 5, 9, 8, 11, 1, 2, 4, 5, 3, 7, 4, 1, 4, 1, 8, 1, 6, 14, 3, 11, 3, 7, 3, 12, 6, 4, 8, 4, 7, 9, 7, 4, 7, 11, 3, 2, 11, 9, 9, 2, 8, 3, 9, 2, 7, 13, 6, 9, 4, 6, 2, 3, 9, 1, 13, 11, 3, 9, 4, 2, 12, 13, 7, 7, 12, 11, 13, 2, 9, 4, 4, 13, 11, 1, 7, 4, 2, 5, 12, 2, 9, 8, 13, 12, 12, 1, 2, 3, 13, 11, 10, 5, 2, 2, 8, 13, 12, 3, 9, 3, 1, 2, 3, 9, 6, 9, 1, 8, 8, 11, 2, 7, 5, 13, 11, 10, 5, 2, 1, 3, 5, 11, 1, 4, 6, 3, 11, 12], \"Freq\": [0.8787346938177516, 0.9787942478752709, 0.9460978189508057, 0.9446068140872997, 0.8490578488652153, 0.9896713556975477, 0.8136409801874397, 0.925024191000892, 0.9556665996817248, 0.9528082716461082, 0.8747362495185289, 0.9614675211727528, 0.9229673731956106, 0.8901712628686285, 0.8753397677671263, 0.9937990340581432, 0.9810983694274397, 0.7952648045691575, 0.8679935246226324, 0.8696640463887105, 0.8847737784556263, 0.4845227658329034, 0.889595327680859, 0.9567384259263659, 0.9714233662991825, 0.9433472685960907, 0.8055891224059314, 0.9757263916106054, 0.8689227722758922, 0.9033209498100172, 0.6191915300019593, 0.795773698417075, 0.7190032914022936, 0.9469797448121111, 0.979510878057645, 0.9658923240920521, 0.9221830813722885, 0.8163766884324483, 0.9020823252301986, 0.8941970615580491, 0.9437928652302127, 0.9464285371639274, 0.9685598510014128, 0.9174538327603574, 0.8997984325127184, 0.7556803830521375, 0.914395307837908, 0.9911287451030687, 0.9183065348447379, 0.9688492429301879, 0.8392985905386926, 0.9250715823975098, 0.9537540363749603, 0.9355872124022014, 0.9324111698864944, 0.9266850829982315, 0.9713480461811188, 0.9539980382480975, 0.9862804245277755, 0.8038712025215967, 0.8829125865110404, 0.960606194541964, 0.9878375259958375, 0.9881506186118251, 0.4988889696244793, 0.9090443290247296, 0.9754203738734315, 0.9497650167587341, 0.8594882096820071, 0.6125754516359998, 0.9478235796955837, 0.9152605860846708, 0.8926348630975109, 0.972427138295727, 0.9314053000809507, 0.9885332895849315, 0.8966970748503784, 0.9511483078018174, 0.9331490929129652, 0.9464857481746844, 0.9358833890858894, 0.8999929280464412, 0.9667560107668424, 0.8042142139653954, 0.91812895215813, 0.8896486328500464, 0.9885428716078304, 0.9084478202303669, 0.8630636502732093, 0.9059500691115686, 0.9881961224871918, 0.8895142707415176, 0.8786393044134199, 0.9457108507367601, 0.9680778524729718, 0.8546236568107443, 0.9355253738323941, 0.8847821378754233, 0.8809481375276631, 0.9742379768275536, 0.9765880863263918, 0.9950298031431501, 0.8800228744821522, 0.9205246329090304, 0.9965383770436388, 0.9749634052356024, 0.847216308348397, 0.9166881242373272, 0.9465204626415591, 0.9762345100958052, 0.6945927885357407, 0.9596050065831764, 0.9621461781257492, 0.8603214314847923, 0.9854149295835468, 0.9147868352321359, 0.8001495760758909, 0.9104014861931443, 0.944916426114443, 0.8631838430995497, 0.8400727556453328, 0.9644416621212885, 0.8786548130179833, 0.8847556330285177, 0.8916104617196486, 0.9876059557763219, 0.8860564614057156, 0.9580433320320403, 0.8438055141556184, 0.9931464158601426, 0.9078289793523622, 0.9448318280916845, 0.9810063047892615, 0.954936205828113, 0.9222115690287952, 0.9511563482312487, 0.8523581444698897, 0.7360542316380819, 0.9170968806811973, 0.9723695134881596, 0.6888052836251195, 0.9477963163018678, 0.8089154387042568, 0.924653218791696, 0.8777195353855316, 0.9219807091022181, 0.9541283898562326, 0.7999000088977307, 0.9244021974860037, 0.976635086445256, 0.932230068485419, 0.8655938252843353, 0.433598629656752, 0.9476847433202986, 0.9637964510909692, 0.9180336903464703, 0.9763261616323273, 0.4766215301933883, 0.9357670256519786, 0.9100997675381182, 0.8943781024290156, 0.9316096588895348, 0.9377887485265983, 0.9419191042898839, 0.9208615109387288, 0.8246685415797966, 0.9848872052662838, 0.8794716582847389, 0.8444259459911021, 0.9683374266382152, 0.7594665016204024, 0.956500224040403, 0.8715207557512061, 0.9863536895054785, 0.8808053005520309, 0.9899032366975483, 0.861796357495569, 0.9020517047774959, 0.9692982353483143, 0.9351666275123633, 0.8980517008355289, 0.9162270149116921, 0.9729866198286662, 0.5901002683088132, 0.9358423357172078, 0.8387765425834812, 0.9239398903882391, 0.9719950577694512, 0.9505177058130349, 0.8966230936810587, 0.9408719922112099, 0.8181552338588542, 0.9334620740861952, 0.9339520942316647, 0.9345901027677823, 0.785779598766742, 0.8929539320414785, 0.8276896343269929, 0.5679139941530531, 0.6954401020067106, 0.974549449642318, 0.9869994659192366, 0.9074416336658844, 0.8385660380542065, 0.9697026225108485, 0.9136276845850101, 0.7927637731735009, 0.9029831748140881, 0.8594816457431471, 0.8485586486751218, 0.9558321646408492, 0.9814374651045671, 0.8506825017648021, 0.9328127083391373, 0.9111957052406243, 0.9829473378469055, 0.9508702473230325, 0.9946435594798644, 0.9115422326394852, 0.9519890206027845, 0.9506683880846943, 0.9863094547538316, 0.9887273307878333, 0.8348002001247818, 0.8870800267655256, 0.9281257284180813, 0.9295645522242261, 0.9695514659432279, 0.8931795652454663, 0.9346812103772224, 0.8020876137130157, 0.8759684425389256, 0.8696489445534654, 0.8967394333353381, 0.9566183552141663, 0.96103442621602, 0.9042407397681578, 0.9089094387030627, 0.9295024625928585, 0.9343787258623941, 0.7814032122359461, 0.9464687992876032, 0.8665877563287782, 0.9378721877527328, 0.7318214696655974, 0.8413944134819809, 0.941482130430226, 0.971936190160246, 0.9669267846641303, 0.9337219738043135, 0.8110450588814567, 0.8222262775127034, 0.8892067021461011, 0.9453836695357885, 0.9367317888963469, 0.9396831051561165, 0.752432608706211, 0.9560630000615378, 0.982912953148276], \"Term\": [\"alternative\", \"always\", \"amazing\", \"amazon\", \"another\", \"awesome\", \"awful\", \"baby\", \"bad\", \"bags\", \"bar\", \"bars\", \"beans\", \"beautiful\", \"beef\", \"best\", \"better\", \"big\", \"bit\", \"bitter\", \"black\", \"blue\", \"bold\", \"box\", \"bread\", \"breakfast\", \"brew\", \"buy\", \"calories\", \"candy\", \"canned\", \"cappuccino\", \"carb\", \"cat\", \"cats\", \"cereal\", \"chai\", \"cheap\", \"cheese\", \"chews\", \"chicken\", \"chips\", \"chocolate\", \"choice\", \"classic\", \"cocoa\", \"coconut\", \"coffee\", \"cookie\", \"cookies\", \"could\", \"crackers\", \"cup\", \"cups\", \"customer\", \"dark\", \"deal\", \"decaf\", \"delicious\", \"diamond\", \"different\", \"disappointed\", \"dog\", \"dogs\", \"double\", \"drink\", \"easy\", \"eat\", \"else\", \"energy\", \"enough\", \"espresso\", \"even\", \"ever\", \"every\", \"excellent\", \"expected\", \"expensive\", \"fabulous\", \"fantastic\", \"fast\", \"fat\", \"favorite\", \"find\", \"fine\", \"first\", \"flavor\", \"flavored\", \"flavorful\", \"flavors\", \"food\", \"free\", \"fruit\", \"full\", \"get\", \"gf\", \"gift\", \"ginger\", \"give\", \"gluten_free\", \"go\", \"good\", \"got\", \"granola\", \"great\", \"green\", \"gum\", \"happy\", \"hazelnut\", \"healthy\", \"heaven\", \"high\", \"honey\", \"horrible\", \"hot\", \"house\", \"idea\", \"item\", \"jerky\", \"juice\", \"kids\", \"kind\", \"kit\", \"less\", \"light\", \"like\", \"liked\", \"little\", \"long\", \"love\", \"loved\", \"lovers\", \"loves\", \"low\", \"made\", \"makes\", \"meat\", \"medium\", \"mild\", \"milk\", \"mill\", \"mix\", \"money\", \"morning\", \"mountain\", \"much\", \"natural\", \"nestle\", \"new\", \"nice\", \"noodles\", \"oatmeal\", \"oh\", \"oil\", \"ok\", \"old\", \"one\", \"order\", \"organic\", \"ounce\", \"outstanding\", \"pack\", \"package\", \"packaging\", \"pasta\", \"peanut_butter\", \"perfect\", \"pleasant\", \"poor\", \"popcorn\", \"potato\", \"pretty\", \"pretzels\", \"price\", \"pricey\", \"product\", \"products\", \"protein\", \"quality\", \"quick\", \"raw\", \"real\", \"really\", \"recommended\", \"red\", \"regular\", \"review\", \"rice\", \"rich\", \"roast\", \"salt\", \"salty\", \"sauce\", \"service\", \"shipping\", \"sick\", \"simple\", \"small\", \"smell\", \"smells\", \"smooth\", \"snack\", \"snacks\", \"son\", \"soup\", \"spicy\", \"star\", \"starter\", \"stash\", \"still\", \"strong\", \"stuff\", \"substitute\", \"sugar\", \"super\", \"sweet\", \"syrup\", \"taste\", \"tasted\", \"tastes\", \"tasting\", \"tasty\", \"tea\", \"texture\", \"thing\", \"time\", \"treat\", \"treats\", \"tried\", \"truly\", \"try\", \"us\", \"use\", \"used\", \"value\", \"vanilla\", \"want\", \"water\", \"way\", \"weak\", \"weird\", \"well\", \"wellness\", \"white\", \"whole\", \"wish\", \"without\", \"wonderful\", \"work\", \"works\", \"worst\", \"worth\", \"would\", \"wow\", \"wrong\", \"year\", \"yet\", \"yum\", \"yummy\"]}, \"R\": 30, \"lambda.step\": 0.01, \"plot.opts\": {\"xlab\": \"PC1\", \"ylab\": \"PC2\"}, \"topic.order\": [12, 13, 10, 8, 3, 5, 4, 1, 11, 2, 7, 14, 6, 9]};\n",
       "\n",
       "function LDAvis_load_lib(url, callback){\n",
       "  var s = document.createElement('script');\n",
       "  s.src = url;\n",
       "  s.async = true;\n",
       "  s.onreadystatechange = s.onload = callback;\n",
       "  s.onerror = function(){console.warn(\"failed to load library \" + url);};\n",
       "  document.getElementsByTagName(\"head\")[0].appendChild(s);\n",
       "}\n",
       "\n",
       "if(typeof(LDAvis) !== \"undefined\"){\n",
       "   // already loaded: just create the visualization\n",
       "   !function(LDAvis){\n",
       "       new LDAvis(\"#\" + \"ldavis_el1402424775114922561074609402\", ldavis_el1402424775114922561074609402_data);\n",
       "   }(LDAvis);\n",
       "}else if(typeof define === \"function\" && define.amd){\n",
       "   // require.js is available: use it to load d3/LDAvis\n",
       "   require.config({paths: {d3: \"https://d3js.org/d3.v5\"}});\n",
       "   require([\"d3\"], function(d3){\n",
       "      window.d3 = d3;\n",
       "      LDAvis_load_lib(\"https://cdn.jsdelivr.net/gh/bmabey/pyLDAvis@3.3.1/pyLDAvis/js/ldavis.v3.0.0.js\", function(){\n",
       "        new LDAvis(\"#\" + \"ldavis_el1402424775114922561074609402\", ldavis_el1402424775114922561074609402_data);\n",
       "      });\n",
       "    });\n",
       "}else{\n",
       "    // require.js not available: dynamically load d3 & LDAvis\n",
       "    LDAvis_load_lib(\"https://d3js.org/d3.v5.js\", function(){\n",
       "         LDAvis_load_lib(\"https://cdn.jsdelivr.net/gh/bmabey/pyLDAvis@3.3.1/pyLDAvis/js/ldavis.v3.0.0.js\", function(){\n",
       "                 new LDAvis(\"#\" + \"ldavis_el1402424775114922561074609402\", ldavis_el1402424775114922561074609402_data);\n",
       "            })\n",
       "         });\n",
       "}\n",
       "</script>"
      ],
      "text/plain": [
       "PreparedData(topic_coordinates=              x         y  topics  cluster       Freq\n",
       "topic                                                \n",
       "11     0.178379  0.407035       1        1  14.170058\n",
       "12     0.389634 -0.214695       2        1  11.966894\n",
       "9     -0.085265 -0.037384       3        1  10.751931\n",
       "7     -0.076481 -0.032432       4        1   9.511653\n",
       "2      0.003050 -0.008325       5        1   8.146378\n",
       "4     -0.024941 -0.015604       6        1   7.162010\n",
       "3     -0.026649 -0.013570       7        1   6.904907\n",
       "0     -0.061262 -0.017849       8        1   6.878449\n",
       "10    -0.051319 -0.014225       9        1   5.826954\n",
       "1     -0.027051 -0.007632      10        1   5.337502\n",
       "6     -0.068526 -0.016999      11        1   4.835077\n",
       "13    -0.041129 -0.011005      12        1   4.481473\n",
       "5     -0.061806 -0.013019      13        1   3.518155\n",
       "8     -0.046634 -0.004296      14        1   0.508559, topic_info=        Term       Freq       Total Category  logprob  loglift\n",
       "8      great  404.00000  404.000000  Default   30.000  30.0000\n",
       "22      good  278.00000  278.000000  Default   29.000  29.0000\n",
       "25      love  143.00000  143.000000  Default   28.000  28.0000\n",
       "18      best  167.00000  167.000000  Default   27.000  27.0000\n",
       "55    coffee  155.00000  155.000000  Default   26.000  26.0000\n",
       "..       ...        ...         ...      ...      ...      ...\n",
       "16      fine    0.04513    9.802545  Topic14   -6.388  -0.0995\n",
       "17       tea    0.04513   95.071712  Topic14   -6.388  -2.3715\n",
       "18      best    0.04513  167.035783  Topic14   -6.388  -2.9351\n",
       "19      ever    0.04513   42.162542  Topic14   -6.388  -1.5584\n",
       "20  pretzels    0.04513    4.589678  Topic14   -6.388   0.6593\n",
       "\n",
       "[523 rows x 6 columns], token_table=      Topic      Freq         Term\n",
       "term                              \n",
       "65        8  0.878735  alternative\n",
       "207       3  0.978794       always\n",
       "62       10  0.946098      amazing\n",
       "229       1  0.944607       amazon\n",
       "224       7  0.849058      another\n",
       "...     ...       ...          ...\n",
       "167       4  0.936732        wrong\n",
       "28        6  0.939683         year\n",
       "227       3  0.752433          yet\n",
       "214      11  0.956063          yum\n",
       "14       12  0.982913        yummy\n",
       "\n",
       "[259 rows x 3 columns], R=30, lambda_step=0.01, plot_opts={'xlab': 'PC1', 'ylab': 'PC2'}, topic_order=[12, 13, 10, 8, 3, 5, 4, 1, 11, 2, 7, 14, 6, 9])"
      ]
     },
     "execution_count": 41,
     "metadata": {},
     "output_type": "execute_result"
    }
   ],
   "source": [
    "import pyLDAvis\n",
    "import pyLDAvis.gensim_models as gensimvis\n",
    "\n",
    "# Visualize the topics\n",
    "pyLDAvis.enable_notebook()\n",
    "vis = gensimvis.prepare(lda_model, corpus, id2word)\n",
    "vis"
   ]
  },
  {
   "cell_type": "code",
   "execution_count": null,
   "metadata": {},
   "outputs": [],
   "source": []
  }
 ],
 "metadata": {
  "colab": {
   "name": "Topic modeling.ipynb",
   "provenance": []
  },
  "kernelspec": {
   "display_name": "Python 3",
   "language": "python",
   "name": "python3"
  },
  "language_info": {
   "codemirror_mode": {
    "name": "ipython",
    "version": 3
   },
   "file_extension": ".py",
   "mimetype": "text/x-python",
   "name": "python",
   "nbconvert_exporter": "python",
   "pygments_lexer": "ipython3",
   "version": "3.7.3"
  }
 },
 "nbformat": 4,
 "nbformat_minor": 1
}
